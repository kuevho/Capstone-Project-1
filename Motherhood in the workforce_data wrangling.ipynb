{
 "cells": [
  {
   "cell_type": "markdown",
   "metadata": {},
   "source": [
    "# Motherhood in the workfoce\n",
    "This notebook contains steps I used to clean my data obtained from IPUMS HigherED."
   ]
  },
  {
   "cell_type": "code",
   "execution_count": 21,
   "metadata": {},
   "outputs": [],
   "source": [
    "#import packages\n",
    "import numpy as np\n",
    "import pandas as pd\n",
    "import seaborn as sns\n",
    "sns.set_style('whitegrid')\n",
    "sns.set_context(\"talk\")\n",
    "%matplotlib inline "
   ]
  },
  {
   "cell_type": "code",
   "execution_count": 22,
   "metadata": {},
   "outputs": [],
   "source": [
    "#read file\n",
    "#after initial read, changed known null values to NaN\n",
    "df = pd.read_csv('highered_00005.csv', na_values=[96, 99, 98, 9996, 9998, 9999, 999996, 999998, 999999, 9999998, 9999999])"
   ]
  },
  {
   "cell_type": "code",
   "execution_count": 23,
   "metadata": {},
   "outputs": [
    {
     "data": {
      "text/html": [
       "<div>\n",
       "<style scoped>\n",
       "    .dataframe tbody tr th:only-of-type {\n",
       "        vertical-align: middle;\n",
       "    }\n",
       "\n",
       "    .dataframe tbody tr th {\n",
       "        vertical-align: top;\n",
       "    }\n",
       "\n",
       "    .dataframe thead th {\n",
       "        text-align: right;\n",
       "    }\n",
       "</style>\n",
       "<table border=\"1\" class=\"dataframe\">\n",
       "  <thead>\n",
       "    <tr style=\"text-align: right;\">\n",
       "      <th></th>\n",
       "      <th>PERSONID</th>\n",
       "      <th>YEAR</th>\n",
       "      <th>WEIGHT</th>\n",
       "      <th>SAMPLE</th>\n",
       "      <th>SURID</th>\n",
       "      <th>AGE</th>\n",
       "      <th>GENDER</th>\n",
       "      <th>RACETH</th>\n",
       "      <th>CHTOT</th>\n",
       "      <th>DGRDG</th>\n",
       "      <th>LFSTAT</th>\n",
       "      <th>EMSEC</th>\n",
       "      <th>EMSIZE</th>\n",
       "      <th>NEWBUS</th>\n",
       "      <th>WAPRSM</th>\n",
       "      <th>SUPWK</th>\n",
       "      <th>SALARY</th>\n",
       "      <th>CHFAM</th>\n",
       "    </tr>\n",
       "  </thead>\n",
       "  <tbody>\n",
       "    <tr>\n",
       "      <th>0</th>\n",
       "      <td>50000030000000003</td>\n",
       "      <td>2003</td>\n",
       "      <td>372.6047</td>\n",
       "      <td>601</td>\n",
       "      <td>1</td>\n",
       "      <td>47</td>\n",
       "      <td>1</td>\n",
       "      <td>2</td>\n",
       "      <td>1.0</td>\n",
       "      <td>1</td>\n",
       "      <td>1</td>\n",
       "      <td>1.0</td>\n",
       "      <td>3.0</td>\n",
       "      <td>0.0</td>\n",
       "      <td>2.0</td>\n",
       "      <td>1.0</td>\n",
       "      <td>35000.0</td>\n",
       "      <td>NaN</td>\n",
       "    </tr>\n",
       "    <tr>\n",
       "      <th>1</th>\n",
       "      <td>50000030000000004</td>\n",
       "      <td>2003</td>\n",
       "      <td>341.7484</td>\n",
       "      <td>601</td>\n",
       "      <td>1</td>\n",
       "      <td>66</td>\n",
       "      <td>2</td>\n",
       "      <td>2</td>\n",
       "      <td>NaN</td>\n",
       "      <td>1</td>\n",
       "      <td>1</td>\n",
       "      <td>4.0</td>\n",
       "      <td>1.0</td>\n",
       "      <td>0.0</td>\n",
       "      <td>1.0</td>\n",
       "      <td>1.0</td>\n",
       "      <td>66000.0</td>\n",
       "      <td>NaN</td>\n",
       "    </tr>\n",
       "    <tr>\n",
       "      <th>2</th>\n",
       "      <td>50000030000000005</td>\n",
       "      <td>2003</td>\n",
       "      <td>522.5629</td>\n",
       "      <td>601</td>\n",
       "      <td>1</td>\n",
       "      <td>60</td>\n",
       "      <td>1</td>\n",
       "      <td>2</td>\n",
       "      <td>NaN</td>\n",
       "      <td>1</td>\n",
       "      <td>1</td>\n",
       "      <td>4.0</td>\n",
       "      <td>6.0</td>\n",
       "      <td>0.0</td>\n",
       "      <td>3.0</td>\n",
       "      <td>1.0</td>\n",
       "      <td>102000.0</td>\n",
       "      <td>NaN</td>\n",
       "    </tr>\n",
       "    <tr>\n",
       "      <th>3</th>\n",
       "      <td>50000030000000006</td>\n",
       "      <td>2003</td>\n",
       "      <td>135.0212</td>\n",
       "      <td>601</td>\n",
       "      <td>1</td>\n",
       "      <td>30</td>\n",
       "      <td>2</td>\n",
       "      <td>2</td>\n",
       "      <td>NaN</td>\n",
       "      <td>2</td>\n",
       "      <td>1</td>\n",
       "      <td>4.0</td>\n",
       "      <td>8.0</td>\n",
       "      <td>0.0</td>\n",
       "      <td>1.0</td>\n",
       "      <td>1.0</td>\n",
       "      <td>81000.0</td>\n",
       "      <td>NaN</td>\n",
       "    </tr>\n",
       "    <tr>\n",
       "      <th>4</th>\n",
       "      <td>50000030000000104</td>\n",
       "      <td>2003</td>\n",
       "      <td>907.4463</td>\n",
       "      <td>601</td>\n",
       "      <td>1</td>\n",
       "      <td>68</td>\n",
       "      <td>1</td>\n",
       "      <td>2</td>\n",
       "      <td>NaN</td>\n",
       "      <td>2</td>\n",
       "      <td>3</td>\n",
       "      <td>NaN</td>\n",
       "      <td>NaN</td>\n",
       "      <td>NaN</td>\n",
       "      <td>NaN</td>\n",
       "      <td>NaN</td>\n",
       "      <td>NaN</td>\n",
       "      <td>NaN</td>\n",
       "    </tr>\n",
       "  </tbody>\n",
       "</table>\n",
       "</div>"
      ],
      "text/plain": [
       "            PERSONID  YEAR    WEIGHT  SAMPLE  SURID  AGE  GENDER  RACETH  \\\n",
       "0  50000030000000003  2003  372.6047     601      1   47       1       2   \n",
       "1  50000030000000004  2003  341.7484     601      1   66       2       2   \n",
       "2  50000030000000005  2003  522.5629     601      1   60       1       2   \n",
       "3  50000030000000006  2003  135.0212     601      1   30       2       2   \n",
       "4  50000030000000104  2003  907.4463     601      1   68       1       2   \n",
       "\n",
       "   CHTOT  DGRDG  LFSTAT  EMSEC  EMSIZE  NEWBUS  WAPRSM  SUPWK    SALARY  CHFAM  \n",
       "0    1.0      1       1    1.0     3.0     0.0     2.0    1.0   35000.0    NaN  \n",
       "1    NaN      1       1    4.0     1.0     0.0     1.0    1.0   66000.0    NaN  \n",
       "2    NaN      1       1    4.0     6.0     0.0     3.0    1.0  102000.0    NaN  \n",
       "3    NaN      2       1    4.0     8.0     0.0     1.0    1.0   81000.0    NaN  \n",
       "4    NaN      2       3    NaN     NaN     NaN     NaN    NaN       NaN    NaN  "
      ]
     },
     "execution_count": 23,
     "metadata": {},
     "output_type": "execute_result"
    }
   ],
   "source": [
    "#explore dataframe\n",
    "df.head()"
   ]
  },
  {
   "cell_type": "code",
   "execution_count": 5,
   "metadata": {},
   "outputs": [
    {
     "data": {
      "text/plain": [
       "98.0    89438\n",
       "0.0     22250\n",
       "1.0      3464\n",
       "Name: CHFAM, dtype: int64"
      ]
     },
     "execution_count": 5,
     "metadata": {},
     "output_type": "execute_result"
    }
   ],
   "source": [
    "#only column upon initial read with NaN values. Explore values to determine breakdown.\n",
    "#0=NO, 1=Yes, 98=Logical skip\n",
    "df['CHFAM'].value_counts()"
   ]
  },
  {
   "cell_type": "code",
   "execution_count": 7,
   "metadata": {},
   "outputs": [
    {
     "data": {
      "text/plain": [
       "98    113521\n",
       "3      56237\n",
       "1      36945\n",
       "Name: CHTOT, dtype: int64"
      ]
     },
     "execution_count": 7,
     "metadata": {},
     "output_type": "execute_result"
    }
   ],
   "source": [
    "df['CHTOT'].value_counts()"
   ]
  },
  {
   "cell_type": "code",
   "execution_count": 24,
   "metadata": {},
   "outputs": [
    {
     "name": "stdout",
     "output_type": "stream",
     "text": [
      "<class 'pandas.core.frame.DataFrame'>\n",
      "RangeIndex: 206703 entries, 0 to 206702\n",
      "Data columns (total 18 columns):\n",
      "PERSONID    206703 non-null int64\n",
      "YEAR        206703 non-null int64\n",
      "WEIGHT      206693 non-null float64\n",
      "SAMPLE      206703 non-null int64\n",
      "SURID       206703 non-null int64\n",
      "AGE         206703 non-null int64\n",
      "GENDER      206703 non-null int64\n",
      "RACETH      206703 non-null int64\n",
      "CHTOT       93182 non-null float64\n",
      "DGRDG       206703 non-null int64\n",
      "LFSTAT      206703 non-null int64\n",
      "EMSEC       176857 non-null float64\n",
      "EMSIZE      176857 non-null float64\n",
      "NEWBUS      176857 non-null float64\n",
      "WAPRSM      176857 non-null float64\n",
      "SUPWK       176857 non-null float64\n",
      "SALARY      176857 non-null float64\n",
      "CHFAM       25714 non-null float64\n",
      "dtypes: float64(9), int64(9)\n",
      "memory usage: 28.4 MB\n"
     ]
    }
   ],
   "source": [
    "df.info()"
   ]
  },
  {
   "cell_type": "markdown",
   "metadata": {},
   "source": [
    "Initial read: all columns have the same entries of 206703, except CHFAM, which has 115152 entries. Viewing the first 5 rows of data shows that this data is in a highly engineered format where values represent null values, i.e. na_values=[96, 99, 98, 9996, 9998, 9999, 999996, 999998, 999999, 9999998, 9999999] This is added onto the initial data read.\n",
    "\n",
    "Now, we see that the total number of entries is 206703, which is also true for most of columns except CHTOT, EMSEC, EMSIZE, NEWBUS, SUPWK, SALARY, AND CHFAM.\n",
    "We know from initial read that CHTOT had full entries with non-null values until these values were switched to null. Since they became null due to logical skips, we can assume that these individuals do not have any children. All null values will be changed to 0 = no children."
   ]
  },
  {
   "cell_type": "code",
   "execution_count": 25,
   "metadata": {},
   "outputs": [],
   "source": [
    "#change null-values in CHTOT to 0, corresponding to no.\n",
    "df['CHTOT'] = df['CHTOT'].fillna(0)"
   ]
  },
  {
   "cell_type": "markdown",
   "metadata": {},
   "source": [
    "Notice that all the columns pertaining to employment have the value of 176857. First assumption is that this is due to employment status."
   ]
  },
  {
   "cell_type": "code",
   "execution_count": 26,
   "metadata": {},
   "outputs": [
    {
     "data": {
      "text/plain": [
       "1    176857\n",
       "3     23958\n",
       "2      5888\n",
       "Name: LFSTAT, dtype: int64"
      ]
     },
     "execution_count": 26,
     "metadata": {},
     "output_type": "execute_result"
    }
   ],
   "source": [
    "#view total employment status, 1=employed, 2=unemployed, 3=not in labor force\n",
    "df['LFSTAT'].value_counts()"
   ]
  },
  {
   "cell_type": "markdown",
   "metadata": {},
   "source": [
    "We see above that the total employed status is 176857 which is the same as the above columns. Now we know why those values were null and will leave them as is.\n",
    "\n",
    "Since CHFAM column is a question worded specifically for termination of employment due to family related reasons, we will assume a default answer of no. The previous info() method shows that there are 25714 non null values which is approximately the same value as unemployment. All null values will be converted to 0 and the column will be left as it is. "
   ]
  },
  {
   "cell_type": "code",
   "execution_count": 27,
   "metadata": {},
   "outputs": [],
   "source": [
    "#change null-values to 0 = No\n",
    "df['CHFAM'] = df['CHFAM'].fillna(0)"
   ]
  },
  {
   "cell_type": "code",
   "execution_count": 29,
   "metadata": {},
   "outputs": [
    {
     "name": "stdout",
     "output_type": "stream",
     "text": [
      "<class 'pandas.core.frame.DataFrame'>\n",
      "RangeIndex: 206703 entries, 0 to 206702\n",
      "Data columns (total 18 columns):\n",
      "PERSONID    206703 non-null int64\n",
      "YEAR        206703 non-null int64\n",
      "WEIGHT      206693 non-null float64\n",
      "SAMPLE      206703 non-null int64\n",
      "SURID       206703 non-null int64\n",
      "AGE         206703 non-null int64\n",
      "GENDER      206703 non-null int64\n",
      "RACETH      206703 non-null int64\n",
      "CHTOT       206703 non-null float64\n",
      "DGRDG       206703 non-null int64\n",
      "LFSTAT      206703 non-null int64\n",
      "EMSEC       176857 non-null float64\n",
      "EMSIZE      176857 non-null float64\n",
      "NEWBUS      176857 non-null float64\n",
      "WAPRSM      176857 non-null float64\n",
      "SUPWK       176857 non-null float64\n",
      "SALARY      176857 non-null float64\n",
      "CHFAM       206703 non-null float64\n",
      "dtypes: float64(9), int64(9)\n",
      "memory usage: 28.4 MB\n"
     ]
    }
   ],
   "source": [
    "#check for missing values\n",
    "df.info()"
   ]
  },
  {
   "cell_type": "markdown",
   "metadata": {},
   "source": [
    "Data is cleaned and ready"
   ]
  },
  {
   "cell_type": "code",
   "execution_count": 30,
   "metadata": {},
   "outputs": [],
   "source": [
    "#use string categorical data to replace numerical data\n",
    "gen_map = {1:'Female', 2:'Male'}\n",
    "df['Genders'] = df['GENDER'].map(gen_map)\n",
    "\n",
    "race_map = {1:'Asian', 2:'White', 3:'other minorities', 4:'Other'}\n",
    "df['Race'] = df['RACETH'].map(race_map)\n",
    "\n",
    "chi_map = {0:'none', 1:'1', 2:'1-3', 3:'2 or more', 4:'more than 3'}\n",
    "df['Children'] = df['CHTOT'].map(chi_map)\n",
    "\n",
    "deg_map = {1:'Bachelors',2:'Masters', 3:'Doctorate', 4:'Professional'}\n",
    "df['Degree'] = df['DGRDG'].map(deg_map)\n",
    "\n",
    "LF_map = {1: 'Employed', 2: 'Unemployed'}\n",
    "df['LFSTATS'] = df['LFSTAT'].map(LF_map)\n",
    "df['LFSTATS'] = df['LFSTATS'].replace(3,np.NaN)\n",
    "\n",
    "ES_map = {1:'2 yr college',2:'4 yr college',3:'Government',4:'Industry',5:'Non_US government'}\n",
    "df['EMSECS'] = df['EMSEC'].map(ES_map)\n",
    "\n",
    "esize_map = {1:'Less than 10',2:'11-24',3:'25-99', 4:'100-499', 5:'500-999',6:'1000-4999',7:'5000-24999',8:'more than 25000'}\n",
    "df['EMSIZES'] = df['EMSIZE'].map(esize_map)\n",
    "\n",
    "new_map = {0:'NO', 1:'YES'}\n",
    "df['NEWBUSS'] = df['NEWBUS'].map(new_map)\n",
    "\n",
    "work_map = {1:'RND',2:'Teaching',3:'Admin',4:'Computer apps', 5:'Other'}\n",
    "df['Work'] = df['WAPRSM'].map(work_map)\n",
    "\n",
    "sup_map = {0:'No',1:'Yes'}\n",
    "df['Supervisory'] = df['SUPWK'].map(sup_map)\n",
    "\n",
    "change_map = {0:'No',1:'Yes'}\n",
    "df['Family'] = df['CHFAM'].map(change_map)"
   ]
  },
  {
   "cell_type": "code",
   "execution_count": 31,
   "metadata": {},
   "outputs": [],
   "source": [
    "#drop irrelevant columns\n",
    "df = df.drop(['WEIGHT','SAMPLE', 'GENDER', 'RACETH', 'CHTOT', 'DGRDG', 'LFSTAT', 'EMSEC', 'EMSIZE', 'NEWBUS', 'WAPRSM', 'SUPWK', 'CHFAM'], axis=1)"
   ]
  },
  {
   "cell_type": "code",
   "execution_count": 32,
   "metadata": {},
   "outputs": [
    {
     "name": "stdout",
     "output_type": "stream",
     "text": [
      "<class 'pandas.core.frame.DataFrame'>\n",
      "RangeIndex: 206703 entries, 0 to 206702\n",
      "Data columns (total 16 columns):\n",
      "PERSONID       206703 non-null int64\n",
      "YEAR           206703 non-null int64\n",
      "SURID          206703 non-null int64\n",
      "AGE            206703 non-null int64\n",
      "SALARY         176857 non-null float64\n",
      "Genders        206703 non-null object\n",
      "Race           206703 non-null object\n",
      "Children       206703 non-null object\n",
      "Degree         206703 non-null object\n",
      "LFSTATS        182745 non-null object\n",
      "EMSECS         176857 non-null object\n",
      "EMSIZES        176857 non-null object\n",
      "NEWBUSS        176857 non-null object\n",
      "Work           176857 non-null object\n",
      "Supervisory    176857 non-null object\n",
      "Family         206703 non-null object\n",
      "dtypes: float64(1), int64(4), object(11)\n",
      "memory usage: 25.2+ MB\n"
     ]
    }
   ],
   "source": [
    "df.info()"
   ]
  },
  {
   "cell_type": "code",
   "execution_count": 33,
   "metadata": {},
   "outputs": [],
   "source": [
    "#a dataframe for 2003 survey only\n",
    "df_2003 = df[df['YEAR'] == 2003]\n",
    "\n",
    "#a datafram for 2013 survey only\n",
    "df_2013 = df[df['YEAR'] == 2013]"
   ]
  },
  {
   "cell_type": "code",
   "execution_count": null,
   "metadata": {},
   "outputs": [],
   "source": []
  }
 ],
 "metadata": {
  "kernelspec": {
   "display_name": "Python 3",
   "language": "python",
   "name": "python3"
  },
  "language_info": {
   "codemirror_mode": {
    "name": "ipython",
    "version": 3
   },
   "file_extension": ".py",
   "mimetype": "text/x-python",
   "name": "python",
   "nbconvert_exporter": "python",
   "pygments_lexer": "ipython3",
   "version": "3.7.0"
  }
 },
 "nbformat": 4,
 "nbformat_minor": 2
}
