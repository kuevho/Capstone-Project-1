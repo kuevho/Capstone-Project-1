{
 "cells": [
  {
   "cell_type": "markdown",
   "metadata": {},
   "source": [
    "# Motherhood in the Workforce: Predicting salary and work sector"
   ]
  },
  {
   "cell_type": "markdown",
   "metadata": {},
   "source": [
    "We have explored what it is like as a women in the STEM field by performing an exploratory data analysis of the dataset obtained from IPUMS HigherEd. Once it has been established that men recieve a higher salary than women despite having the same degrees, we further explored what it is like for women with children. In the statistical analysis of this data, we found that men with children still make 39% more than women with children!"
   ]
  },
  {
   "cell_type": "markdown",
   "metadata": {},
   "source": [
    "In this notebook, I will use machine learning skills to predict the income and work sector best suited for those with children. The hope is to answer questions regarding what kind of pay and type of jobs mothers should expect to recieve in the workforce."
   ]
  },
  {
   "cell_type": "code",
   "execution_count": 1,
   "metadata": {},
   "outputs": [],
   "source": [
    "#import packages\n",
    "import numpy as np\n",
    "import pandas as pd\n",
    "import matplotlib.pyplot as plt\n",
    "import seaborn as sns\n",
    "sns.set_style('whitegrid')\n",
    "sns.set_context(\"talk\")\n",
    "%matplotlib inline "
   ]
  },
  {
   "cell_type": "code",
   "execution_count": 2,
   "metadata": {},
   "outputs": [],
   "source": [
    "#import stats module\n",
    "from scipy.stats import ttest_ind, chi2_contingency\n",
    "import statsmodels.api as sm"
   ]
  },
  {
   "cell_type": "code",
   "execution_count": 3,
   "metadata": {},
   "outputs": [],
   "source": [
    "#import sklearn modules\n",
    "from sklearn.metrics import mean_squared_error\n",
    "from sklearn.model_selection import train_test_split\n",
    "from sklearn.model_selection import cross_val_score\n",
    "from sklearn.model_selection import GridSearchCV\n",
    "from sklearn.ensemble import RandomForestClassifier\n",
    "from sklearn.linear_model import LinearRegression\n",
    "from sklearn.linear_model import LogisticRegression\n",
    "from sklearn.neighbors import KNeighborsClassifier\n",
    "from sklearn.metrics import classification_report\n",
    "from sklearn.metrics import confusion_matrix\n",
    "from sklearn.metrics import roc_curve\n",
    "from sklearn.naive_bayes import GaussianNB"
   ]
  },
  {
   "cell_type": "code",
   "execution_count": 4,
   "metadata": {},
   "outputs": [],
   "source": [
    "#import data from csv file with series of null values\n",
    "df = pd.read_csv('highered_00005.csv', na_values=[96, 99, 98, 9996, 9998, 9999, 999996, 999998, 999999, 9999998, 9999999])"
   ]
  },
  {
   "cell_type": "markdown",
   "metadata": {},
   "source": [
    "# Explanatioin of Data\n",
    "\n",
    "This notebook will only predict using entries with a job and children. Irrelevant columns and missing data will be dropped. For further explanations for each features, refer to this site: https://highered.ipums.org/highered/survey_designs.shtml"
   ]
  },
  {
   "cell_type": "code",
   "execution_count": 5,
   "metadata": {},
   "outputs": [],
   "source": [
    "#set data to contain employed individuals with children\n",
    "df_employed = df[df['LFSTAT']==1]\n",
    "df_emp_child = df_employed[df_employed['CHTOT']!=0]\n",
    "\n",
    "#drop irrelevant columns\n",
    "df_emp_child_drop = df_emp_child.drop(['WEIGHT', 'SAMPLE', 'SURID', 'RACETH','LFSTAT','CHFAM', 'CHTOT'], axis=1)\n",
    "df_c = df_emp_child_drop.dropna()"
   ]
  },
  {
   "cell_type": "code",
   "execution_count": 6,
   "metadata": {},
   "outputs": [
    {
     "name": "stdout",
     "output_type": "stream",
     "text": [
      "<class 'pandas.core.frame.DataFrame'>\n",
      "Int64Index: 176857 entries, 0 to 206702\n",
      "Data columns (total 11 columns):\n",
      "PERSONID    176857 non-null int64\n",
      "YEAR        176857 non-null int64\n",
      "AGE         176857 non-null int64\n",
      "GENDER      176857 non-null int64\n",
      "DGRDG       176857 non-null int64\n",
      "EMSEC       176857 non-null float64\n",
      "EMSIZE      176857 non-null float64\n",
      "NEWBUS      176857 non-null float64\n",
      "WAPRSM      176857 non-null float64\n",
      "SUPWK       176857 non-null float64\n",
      "SALARY      176857 non-null float64\n",
      "dtypes: float64(6), int64(5)\n",
      "memory usage: 16.2 MB\n"
     ]
    },
    {
     "data": {
      "text/plain": [
       "Index(['PERSONID', 'YEAR', 'AGE', 'GENDER', 'DGRDG', 'EMSEC', 'EMSIZE',\n",
       "       'NEWBUS', 'WAPRSM', 'SUPWK', 'SALARY'],\n",
       "      dtype='object')"
      ]
     },
     "execution_count": 6,
     "metadata": {},
     "output_type": "execute_result"
    }
   ],
   "source": [
    "#check out data\n",
    "df_c.info()\n",
    "df_c.columns"
   ]
  },
  {
   "cell_type": "code",
   "execution_count": 7,
   "metadata": {},
   "outputs": [
    {
     "data": {
      "text/html": [
       "<div>\n",
       "<style scoped>\n",
       "    .dataframe tbody tr th:only-of-type {\n",
       "        vertical-align: middle;\n",
       "    }\n",
       "\n",
       "    .dataframe tbody tr th {\n",
       "        vertical-align: top;\n",
       "    }\n",
       "\n",
       "    .dataframe thead th {\n",
       "        text-align: right;\n",
       "    }\n",
       "</style>\n",
       "<table border=\"1\" class=\"dataframe\">\n",
       "  <thead>\n",
       "    <tr style=\"text-align: right;\">\n",
       "      <th></th>\n",
       "      <th>PERSONID</th>\n",
       "      <th>YEAR</th>\n",
       "      <th>AGE</th>\n",
       "      <th>GENDER</th>\n",
       "      <th>DGRDG</th>\n",
       "      <th>EMSEC</th>\n",
       "      <th>EMSIZE</th>\n",
       "      <th>NEWBUS</th>\n",
       "      <th>WAPRSM</th>\n",
       "      <th>SUPWK</th>\n",
       "      <th>SALARY</th>\n",
       "    </tr>\n",
       "  </thead>\n",
       "  <tbody>\n",
       "    <tr>\n",
       "      <th>count</th>\n",
       "      <td>1.768570e+05</td>\n",
       "      <td>176857.000000</td>\n",
       "      <td>176857.000000</td>\n",
       "      <td>176857.000000</td>\n",
       "      <td>176857.000000</td>\n",
       "      <td>176857.000000</td>\n",
       "      <td>176857.000000</td>\n",
       "      <td>176857.000000</td>\n",
       "      <td>176857.000000</td>\n",
       "      <td>176857.000000</td>\n",
       "      <td>176857.000000</td>\n",
       "    </tr>\n",
       "    <tr>\n",
       "      <th>mean</th>\n",
       "      <td>7.536877e+16</td>\n",
       "      <td>2008.544084</td>\n",
       "      <td>44.234890</td>\n",
       "      <td>1.609707</td>\n",
       "      <td>2.051081</td>\n",
       "      <td>3.256235</td>\n",
       "      <td>5.450844</td>\n",
       "      <td>0.062367</td>\n",
       "      <td>2.874842</td>\n",
       "      <td>0.434051</td>\n",
       "      <td>74835.432016</td>\n",
       "    </tr>\n",
       "    <tr>\n",
       "      <th>std</th>\n",
       "      <td>5.028187e+16</td>\n",
       "      <td>4.970323</td>\n",
       "      <td>11.923861</td>\n",
       "      <td>0.487817</td>\n",
       "      <td>0.940471</td>\n",
       "      <td>1.024139</td>\n",
       "      <td>2.411137</td>\n",
       "      <td>0.241821</td>\n",
       "      <td>1.490828</td>\n",
       "      <td>0.495633</td>\n",
       "      <td>39472.265874</td>\n",
       "    </tr>\n",
       "    <tr>\n",
       "      <th>min</th>\n",
       "      <td>2.000000e+16</td>\n",
       "      <td>2003.000000</td>\n",
       "      <td>23.000000</td>\n",
       "      <td>1.000000</td>\n",
       "      <td>1.000000</td>\n",
       "      <td>1.000000</td>\n",
       "      <td>1.000000</td>\n",
       "      <td>0.000000</td>\n",
       "      <td>1.000000</td>\n",
       "      <td>0.000000</td>\n",
       "      <td>0.000000</td>\n",
       "    </tr>\n",
       "    <tr>\n",
       "      <th>25%</th>\n",
       "      <td>2.000904e+16</td>\n",
       "      <td>2003.000000</td>\n",
       "      <td>34.000000</td>\n",
       "      <td>1.000000</td>\n",
       "      <td>1.000000</td>\n",
       "      <td>2.000000</td>\n",
       "      <td>4.000000</td>\n",
       "      <td>0.000000</td>\n",
       "      <td>1.000000</td>\n",
       "      <td>0.000000</td>\n",
       "      <td>46000.000000</td>\n",
       "    </tr>\n",
       "    <tr>\n",
       "      <th>50%</th>\n",
       "      <td>5.000004e+16</td>\n",
       "      <td>2013.000000</td>\n",
       "      <td>43.000000</td>\n",
       "      <td>2.000000</td>\n",
       "      <td>2.000000</td>\n",
       "      <td>4.000000</td>\n",
       "      <td>6.000000</td>\n",
       "      <td>0.000000</td>\n",
       "      <td>3.000000</td>\n",
       "      <td>0.000000</td>\n",
       "      <td>70000.000000</td>\n",
       "    </tr>\n",
       "    <tr>\n",
       "      <th>75%</th>\n",
       "      <td>1.300091e+17</td>\n",
       "      <td>2013.000000</td>\n",
       "      <td>53.000000</td>\n",
       "      <td>2.000000</td>\n",
       "      <td>3.000000</td>\n",
       "      <td>4.000000</td>\n",
       "      <td>8.000000</td>\n",
       "      <td>0.000000</td>\n",
       "      <td>4.000000</td>\n",
       "      <td>1.000000</td>\n",
       "      <td>100000.000000</td>\n",
       "    </tr>\n",
       "    <tr>\n",
       "      <th>max</th>\n",
       "      <td>1.401011e+17</td>\n",
       "      <td>2013.000000</td>\n",
       "      <td>75.000000</td>\n",
       "      <td>2.000000</td>\n",
       "      <td>4.000000</td>\n",
       "      <td>4.000000</td>\n",
       "      <td>8.000000</td>\n",
       "      <td>1.000000</td>\n",
       "      <td>5.000000</td>\n",
       "      <td>1.000000</td>\n",
       "      <td>150000.000000</td>\n",
       "    </tr>\n",
       "  </tbody>\n",
       "</table>\n",
       "</div>"
      ],
      "text/plain": [
       "           PERSONID           YEAR            AGE         GENDER  \\\n",
       "count  1.768570e+05  176857.000000  176857.000000  176857.000000   \n",
       "mean   7.536877e+16    2008.544084      44.234890       1.609707   \n",
       "std    5.028187e+16       4.970323      11.923861       0.487817   \n",
       "min    2.000000e+16    2003.000000      23.000000       1.000000   \n",
       "25%    2.000904e+16    2003.000000      34.000000       1.000000   \n",
       "50%    5.000004e+16    2013.000000      43.000000       2.000000   \n",
       "75%    1.300091e+17    2013.000000      53.000000       2.000000   \n",
       "max    1.401011e+17    2013.000000      75.000000       2.000000   \n",
       "\n",
       "               DGRDG          EMSEC         EMSIZE         NEWBUS  \\\n",
       "count  176857.000000  176857.000000  176857.000000  176857.000000   \n",
       "mean        2.051081       3.256235       5.450844       0.062367   \n",
       "std         0.940471       1.024139       2.411137       0.241821   \n",
       "min         1.000000       1.000000       1.000000       0.000000   \n",
       "25%         1.000000       2.000000       4.000000       0.000000   \n",
       "50%         2.000000       4.000000       6.000000       0.000000   \n",
       "75%         3.000000       4.000000       8.000000       0.000000   \n",
       "max         4.000000       4.000000       8.000000       1.000000   \n",
       "\n",
       "              WAPRSM          SUPWK         SALARY  \n",
       "count  176857.000000  176857.000000  176857.000000  \n",
       "mean        2.874842       0.434051   74835.432016  \n",
       "std         1.490828       0.495633   39472.265874  \n",
       "min         1.000000       0.000000       0.000000  \n",
       "25%         1.000000       0.000000   46000.000000  \n",
       "50%         3.000000       0.000000   70000.000000  \n",
       "75%         4.000000       1.000000  100000.000000  \n",
       "max         5.000000       1.000000  150000.000000  "
      ]
     },
     "execution_count": 7,
     "metadata": {},
     "output_type": "execute_result"
    }
   ],
   "source": [
    "df_c.describe()"
   ]
  },
  {
   "cell_type": "code",
   "execution_count": 8,
   "metadata": {},
   "outputs": [
    {
     "name": "stderr",
     "output_type": "stream",
     "text": [
      "C:\\Users\\vangk\\AppData\\Local\\Continuum\\anaconda3\\lib\\site-packages\\scipy\\stats\\stats.py:1713: FutureWarning: Using a non-tuple sequence for multidimensional indexing is deprecated; use `arr[tuple(seq)]` instead of `arr[seq]`. In the future this will be interpreted as an array index, `arr[np.array(seq)]`, which will result either in an error or a different result.\n",
      "  return np.add.reduce(sorted[indexer] * weights, axis=axis) / sumval\n"
     ]
    },
    {
     "data": {
      "text/plain": [
       "<matplotlib.axes._subplots.AxesSubplot at 0x1f7e1022470>"
      ]
     },
     "execution_count": 8,
     "metadata": {},
     "output_type": "execute_result"
    },
    {
     "data": {
      "image/png": "[encoded data removed]",
      "text/plain": [
       "<Figure size 432x288 with 1 Axes>"
      ]
     },
     "metadata": {
      "needs_background": "light"
     },
     "output_type": "display_data"
    }
   ],
   "source": [
    "#Visual check of dependent variable SALARY\n",
    "sns.distplot(df_c['SALARY'])"
   ]
  },
  {
   "cell_type": "code",
   "execution_count": 9,
   "metadata": {},
   "outputs": [
    {
     "name": "stdout",
     "output_type": "stream",
     "text": [
      "Top correlated:\n",
      "SALARY    1.000000\n",
      "SUPWK     0.293042\n",
      "DGRDG     0.270397\n",
      "GENDER    0.252219\n",
      "EMSEC     0.214140\n",
      "AGE       0.205010\n",
      "Name: SALARY, dtype: float64\n",
      "Top reverse correlated:\n",
      "PERSONID   -0.127635\n",
      "WAPRSM     -0.035081\n",
      "NEWBUS     -0.033151\n",
      "YEAR        0.069492\n",
      "EMSIZE      0.171897\n",
      "Name: SALARY, dtype: float64\n"
     ]
    }
   ],
   "source": [
    "#Correlation check\n",
    "print('Top correlated:')\n",
    "print(df_c.corr()['SALARY'].sort_values(ascending=False).head(6))\n",
    "print('Top reverse correlated:')\n",
    "print(df_c.corr()['SALARY'].sort_values(ascending=True).head(5))"
   ]
  },
  {
   "cell_type": "markdown",
   "metadata": {},
   "source": [
    "We see here from the correlation check the top 5 features that have a positive correlation with salary is supervisory work, degree, gender, employee sector, and age. Take note that gender made it to the top 3!"
   ]
  },
  {
   "cell_type": "markdown",
   "metadata": {},
   "source": [
    "## Linear Regression Model\n",
    "Train out regression model to predict salary based on age. All other features are dropped because they have text info that the linear regression model can't use."
   ]
  },
  {
   "cell_type": "code",
   "execution_count": 10,
   "metadata": {},
   "outputs": [],
   "source": [
    "X = df_c['AGE'].values\n",
    "y = df_c['SALARY'].values\n",
    "\n",
    "X = X.reshape(-1,1)\n",
    "y = y.reshape(-1,1)"
   ]
  },
  {
   "cell_type": "code",
   "execution_count": 14,
   "metadata": {},
   "outputs": [
    {
     "name": "stdout",
     "output_type": "stream",
     "text": [
      "0.042029163057773156\n"
     ]
    },
    {
     "data": {
      "image/png": "[encoded data removed]",
      "text/plain": [
       "<Figure size 432x288 with 1 Axes>"
      ]
     },
     "metadata": {
      "needs_background": "light"
     },
     "output_type": "display_data"
    }
   ],
   "source": [
    "reg = LinearRegression()\n",
    "prediction_space = np.linspace(min(X), max(X)).reshape(-1,1)\n",
    "reg.fit(X, y)\n",
    "y_pred = reg.predict(prediction_space)\n",
    "print(reg.score(X, y))\n",
    "plt.plot(prediction_space, y_pred, color='black', linewidth=3)\n",
    "plt.xlabel('Age')\n",
    "plt.ylabel('Predicted Salary')\n",
    "plt.show()"
   ]
  },
  {
   "cell_type": "code",
   "execution_count": 15,
   "metadata": {},
   "outputs": [
    {
     "name": "stdout",
     "output_type": "stream",
     "text": [
      "R^2:0.04318833871690786\n",
      "Root mean squared error:38538.56641262462\n"
     ]
    }
   ],
   "source": [
    "#create train test split case\n",
    "X_train, X_test, y_train, y_test = train_test_split(X, y, test_size=0.3, random_state=42)\n",
    "reg.fit(X_train, y_train)\n",
    "y_pred = reg.predict(X_test)\n",
    "print('R^2:{}'.format(reg.score(X_test, y_test)))\n",
    "rmse = np.sqrt(mean_squared_error(y_test, y_pred))\n",
    "print('Root mean squared error:{}'.format(rmse))"
   ]
  },
  {
   "cell_type": "markdown",
   "metadata": {},
   "source": [
    "We see here that age of people with children is not a good predictor of salary with an R squared value of 0.04. This is due to salary and age not sharing a linear relationship. As a result, using linear regression to predict salary based on age is not a good model."
   ]
  },
  {
   "cell_type": "code",
   "execution_count": 16,
   "metadata": {},
   "outputs": [
    {
     "name": "stdout",
     "output_type": "stream",
     "text": [
      "[-0.04755807 -0.01978406  0.0408899 ]\n",
      "Average 3-fold cv scores:-0.008817408840479731\n"
     ]
    }
   ],
   "source": [
    "cv_scores = cross_val_score(reg,X,y, cv=3)\n",
    "print(cv_scores)\n",
    "print('Average 3-fold cv scores:{}'.format(np.mean(cv_scores)))"
   ]
  },
  {
   "cell_type": "code",
   "execution_count": 17,
   "metadata": {},
   "outputs": [],
   "source": [
    "# Import regression modules\n",
    "import statsmodels.api as sm\n",
    "from statsmodels.formula.api import ols"
   ]
  },
  {
   "cell_type": "code",
   "execution_count": 18,
   "metadata": {},
   "outputs": [
    {
     "name": "stdout",
     "output_type": "stream",
     "text": [
      "                            OLS Regression Results                            \n",
      "==============================================================================\n",
      "Dep. Variable:                 SALARY   R-squared:                       0.042\n",
      "Model:                            OLS   Adj. R-squared:                  0.042\n",
      "Method:                 Least Squares   F-statistic:                     7759.\n",
      "Date:                Wed, 24 Apr 2019   Prob (F-statistic):               0.00\n",
      "Time:                        07:48:38   Log-Likelihood:            -2.1189e+06\n",
      "No. Observations:              176857   AIC:                         4.238e+06\n",
      "Df Residuals:                  176855   BIC:                         4.238e+06\n",
      "Df Model:                           1                                         \n",
      "Covariance Type:            nonrobust                                         \n",
      "==============================================================================\n",
      "                 coef    std err          t      P>|t|      [0.025      0.975]\n",
      "------------------------------------------------------------------------------\n",
      "Intercept   4.482e+04    352.971    126.965      0.000    4.41e+04    4.55e+04\n",
      "AGE          678.6573      7.704     88.086      0.000     663.557     693.758\n",
      "==============================================================================\n",
      "Omnibus:                     4417.019   Durbin-Watson:                   1.774\n",
      "Prob(Omnibus):                  0.000   Jarque-Bera (JB):             2838.157\n",
      "Skew:                           0.181   Prob(JB):                         0.00\n",
      "Kurtosis:                       2.496   Cond. No.                         176.\n",
      "==============================================================================\n",
      "\n",
      "Warnings:\n",
      "[1] Standard Errors assume that the covariance matrix of the errors is correctly specified.\n"
     ]
    }
   ],
   "source": [
    "# Check statistical significance.\n",
    "m = ols('SALARY ~ AGE',df_c).fit()\n",
    "print(m.summary())"
   ]
  },
  {
   "cell_type": "markdown",
   "metadata": {},
   "source": [
    "There is a ton of information in this output. But we'll concentrate on the coefficient table (middle table). We can interpret the AGE coefficient (678.66) by noticing that the p-value (under P>|t|) is so small, basically zero. This means that the AGE is a statisticall significant predictor of SALARY."
   ]
  },
  {
   "cell_type": "markdown",
   "metadata": {},
   "source": [
    "## Classification \n",
    "Most of the data are labeled and those with the highest correlation with salary are either binary or categorical. We see that age isn't the best predictor of salary for individuals with children. As a result, we will convert salary into binary and use two classification methods to predict salary of women with children: Logistic Regression and Random Forest Classifier"
   ]
  },
  {
   "cell_type": "code",
   "execution_count": 19,
   "metadata": {},
   "outputs": [],
   "source": [
    "# define a function to change the salary column to a salary level column\n",
    "def salary_bracket(ls):\n",
    "    new_s = np.empty(len(ls))\n",
    "    for i,s in enumerate(ls):\n",
    "        if s<60000:\n",
    "            new_s[i] = 0\n",
    "        else:\n",
    "            new_s[i] = 1\n",
    "    return new_s\n",
    "\n",
    "# define a dataframe that only contains salary larger than 0 (eliminate the entry fault)\n",
    "df_csal =[]\n",
    "df_csal = df_c[(df_c['SALARY']>0)]\n",
    "\n",
    "\n",
    "\n",
    "new_salary = salary_bracket(df_csal['SALARY'])"
   ]
  },
  {
   "cell_type": "code",
   "execution_count": 17,
   "metadata": {},
   "outputs": [
    {
     "data": {
      "text/plain": [
       "numpy.ndarray"
      ]
     },
     "execution_count": 17,
     "metadata": {},
     "output_type": "execute_result"
    }
   ],
   "source": [
    "type(new_salary)"
   ]
  },
  {
   "cell_type": "code",
   "execution_count": 20,
   "metadata": {},
   "outputs": [],
   "source": [
    "#add new_salary to df_csal_nod\n",
    "df_csal_nod = []\n",
    "df_csal_nod = df_csal.assign(salary_d=pd.Series(new_salary).values)\n",
    "df_csal_nod.salary_d = df_csal_nod.salary_d.astype('category')\n",
    "df_csal_nod=df_csal_nod.drop(['SALARY'], axis=1)"
   ]
  },
  {
   "cell_type": "code",
   "execution_count": 21,
   "metadata": {},
   "outputs": [
    {
     "data": {
      "text/html": [
       "<div>\n",
       "<style scoped>\n",
       "    .dataframe tbody tr th:only-of-type {\n",
       "        vertical-align: middle;\n",
       "    }\n",
       "\n",
       "    .dataframe tbody tr th {\n",
       "        vertical-align: top;\n",
       "    }\n",
       "\n",
       "    .dataframe thead th {\n",
       "        text-align: right;\n",
       "    }\n",
       "</style>\n",
       "<table border=\"1\" class=\"dataframe\">\n",
       "  <thead>\n",
       "    <tr style=\"text-align: right;\">\n",
       "      <th></th>\n",
       "      <th>PERSONID</th>\n",
       "      <th>YEAR</th>\n",
       "      <th>AGE</th>\n",
       "      <th>GENDER</th>\n",
       "      <th>DGRDG</th>\n",
       "      <th>EMSEC</th>\n",
       "      <th>EMSIZE</th>\n",
       "      <th>NEWBUS</th>\n",
       "      <th>WAPRSM</th>\n",
       "      <th>SUPWK</th>\n",
       "      <th>salary_d</th>\n",
       "    </tr>\n",
       "  </thead>\n",
       "  <tbody>\n",
       "    <tr>\n",
       "      <th>0</th>\n",
       "      <td>50000030000000003</td>\n",
       "      <td>2003</td>\n",
       "      <td>47</td>\n",
       "      <td>1</td>\n",
       "      <td>1</td>\n",
       "      <td>1.0</td>\n",
       "      <td>3.0</td>\n",
       "      <td>0.0</td>\n",
       "      <td>2.0</td>\n",
       "      <td>1.0</td>\n",
       "      <td>0.0</td>\n",
       "    </tr>\n",
       "    <tr>\n",
       "      <th>1</th>\n",
       "      <td>50000030000000004</td>\n",
       "      <td>2003</td>\n",
       "      <td>66</td>\n",
       "      <td>2</td>\n",
       "      <td>1</td>\n",
       "      <td>4.0</td>\n",
       "      <td>1.0</td>\n",
       "      <td>0.0</td>\n",
       "      <td>1.0</td>\n",
       "      <td>1.0</td>\n",
       "      <td>1.0</td>\n",
       "    </tr>\n",
       "    <tr>\n",
       "      <th>2</th>\n",
       "      <td>50000030000000005</td>\n",
       "      <td>2003</td>\n",
       "      <td>60</td>\n",
       "      <td>1</td>\n",
       "      <td>1</td>\n",
       "      <td>4.0</td>\n",
       "      <td>6.0</td>\n",
       "      <td>0.0</td>\n",
       "      <td>3.0</td>\n",
       "      <td>1.0</td>\n",
       "      <td>1.0</td>\n",
       "    </tr>\n",
       "    <tr>\n",
       "      <th>3</th>\n",
       "      <td>50000030000000006</td>\n",
       "      <td>2003</td>\n",
       "      <td>30</td>\n",
       "      <td>2</td>\n",
       "      <td>2</td>\n",
       "      <td>4.0</td>\n",
       "      <td>8.0</td>\n",
       "      <td>0.0</td>\n",
       "      <td>1.0</td>\n",
       "      <td>1.0</td>\n",
       "      <td>1.0</td>\n",
       "    </tr>\n",
       "    <tr>\n",
       "      <th>5</th>\n",
       "      <td>50000030000000105</td>\n",
       "      <td>2003</td>\n",
       "      <td>51</td>\n",
       "      <td>2</td>\n",
       "      <td>1</td>\n",
       "      <td>4.0</td>\n",
       "      <td>8.0</td>\n",
       "      <td>0.0</td>\n",
       "      <td>3.0</td>\n",
       "      <td>1.0</td>\n",
       "      <td>1.0</td>\n",
       "    </tr>\n",
       "  </tbody>\n",
       "</table>\n",
       "</div>"
      ],
      "text/plain": [
       "            PERSONID  YEAR  AGE  GENDER  DGRDG  EMSEC  EMSIZE  NEWBUS  WAPRSM  \\\n",
       "0  50000030000000003  2003   47       1      1    1.0     3.0     0.0     2.0   \n",
       "1  50000030000000004  2003   66       2      1    4.0     1.0     0.0     1.0   \n",
       "2  50000030000000005  2003   60       1      1    4.0     6.0     0.0     3.0   \n",
       "3  50000030000000006  2003   30       2      2    4.0     8.0     0.0     1.0   \n",
       "5  50000030000000105  2003   51       2      1    4.0     8.0     0.0     3.0   \n",
       "\n",
       "   SUPWK salary_d  \n",
       "0    1.0      0.0  \n",
       "1    1.0      1.0  \n",
       "2    1.0      1.0  \n",
       "3    1.0      1.0  \n",
       "5    1.0      1.0  "
      ]
     },
     "execution_count": 21,
     "metadata": {},
     "output_type": "execute_result"
    }
   ],
   "source": [
    "#check new dataframe\n",
    "df_csal_nod.head()"
   ]
  },
  {
   "cell_type": "code",
   "execution_count": 20,
   "metadata": {},
   "outputs": [
    {
     "data": {
      "text/plain": [
       "pandas.core.frame.DataFrame"
      ]
     },
     "execution_count": 20,
     "metadata": {},
     "output_type": "execute_result"
    }
   ],
   "source": [
    "type(df_csal_nod)"
   ]
  },
  {
   "cell_type": "code",
   "execution_count": 22,
   "metadata": {},
   "outputs": [
    {
     "data": {
      "text/plain": [
       "<function matplotlib.pyplot.tight_layout(pad=1.08, h_pad=None, w_pad=None, rect=None)>"
      ]
     },
     "execution_count": 22,
     "metadata": {},
     "output_type": "execute_result"
    },
    {
     "data": {
      "image/png": "[encoded data removed]",
      "text/plain": [
       "<Figure size 576x360 with 1 Axes>"
      ]
     },
     "metadata": {
      "needs_background": "light"
     },
     "output_type": "display_data"
    }
   ],
   "source": [
    "#bar plot of gender and salary \n",
    "fig=plt.figure(figsize=[8,5])\n",
    "ax = fig.add_subplot(111)\n",
    "sns.countplot(data=df_csal_nod, x = 'salary_d', hue= 'GENDER', palette=\"muted\", ax=ax)\n",
    "sns.despine()\n",
    "plt.title('Gender Pay Gap')\n",
    "ax.set_xticklabels(['Under $60K', 'Over $60K'])\n",
    "lgd=ax.legend(['female', 'male'], bbox_to_anchor=(1.01, 1), loc=2, borderaxespad=0.)\n",
    "plt.tight_layout"
   ]
  },
  {
   "cell_type": "markdown",
   "metadata": {},
   "source": [
    "In the barplot above we see that a lot more men make over $60K than women do. For more overview of this disparity view EDA notebook"
   ]
  },
  {
   "cell_type": "markdown",
   "metadata": {},
   "source": [
    "## Data exploration"
   ]
  },
  {
   "cell_type": "code",
   "execution_count": 24,
   "metadata": {},
   "outputs": [
    {
     "data": {
      "text/plain": [
       "1.0    110568\n",
       "0.0     65219\n",
       "Name: salary_d, dtype: int64"
      ]
     },
     "execution_count": 24,
     "metadata": {},
     "output_type": "execute_result"
    }
   ],
   "source": [
    "df_csal_nod['salary_d'].value_counts()"
   ]
  },
  {
   "cell_type": "code",
   "execution_count": 25,
   "metadata": {},
   "outputs": [
    {
     "data": {
      "image/png": "[encoded data removed]",
      "text/plain": [
       "<Figure size 432x288 with 1 Axes>"
      ]
     },
     "metadata": {
      "needs_background": "light"
     },
     "output_type": "display_data"
    }
   ],
   "source": [
    "sns.countplot(x='salary_d', data=df_csal_nod, palette='hls')\n",
    "plt.show()"
   ]
  },
  {
   "cell_type": "code",
   "execution_count": 26,
   "metadata": {},
   "outputs": [
    {
     "name": "stdout",
     "output_type": "stream",
     "text": [
      "percentage of under 60k is:37.10115082457747\n",
      "percentage of over 60k is:62.898849175422534\n"
     ]
    }
   ],
   "source": [
    "count_u60 = len(df_csal_nod[df_csal_nod['salary_d']==0.0])\n",
    "count_o60 = len(df_csal_nod[df_csal_nod['salary_d']==1.0])\n",
    "pct_u60 = count_u60/(count_u60+count_o60)\n",
    "print('percentage of under 60k is:{}'.format(pct_u60*100))\n",
    "pct_o60 = count_o60/(count_u60+count_o60)\n",
    "print('percentage of over 60k is:{}'.format(pct_o60*100))"
   ]
  },
  {
   "cell_type": "markdown",
   "metadata": {},
   "source": [
    "Overall, the classes are imbalanced and require fixing. Let's explore some more."
   ]
  },
  {
   "cell_type": "code",
   "execution_count": 27,
   "metadata": {},
   "outputs": [
    {
     "data": {
      "text/html": [
       "<div>\n",
       "<style scoped>\n",
       "    .dataframe tbody tr th:only-of-type {\n",
       "        vertical-align: middle;\n",
       "    }\n",
       "\n",
       "    .dataframe tbody tr th {\n",
       "        vertical-align: top;\n",
       "    }\n",
       "\n",
       "    .dataframe thead th {\n",
       "        text-align: right;\n",
       "    }\n",
       "</style>\n",
       "<table border=\"1\" class=\"dataframe\">\n",
       "  <thead>\n",
       "    <tr style=\"text-align: right;\">\n",
       "      <th></th>\n",
       "      <th>PERSONID</th>\n",
       "      <th>YEAR</th>\n",
       "      <th>AGE</th>\n",
       "      <th>GENDER</th>\n",
       "      <th>DGRDG</th>\n",
       "      <th>EMSEC</th>\n",
       "      <th>EMSIZE</th>\n",
       "      <th>NEWBUS</th>\n",
       "      <th>WAPRSM</th>\n",
       "      <th>SUPWK</th>\n",
       "    </tr>\n",
       "    <tr>\n",
       "      <th>salary_d</th>\n",
       "      <th></th>\n",
       "      <th></th>\n",
       "      <th></th>\n",
       "      <th></th>\n",
       "      <th></th>\n",
       "      <th></th>\n",
       "      <th></th>\n",
       "      <th></th>\n",
       "      <th></th>\n",
       "      <th></th>\n",
       "    </tr>\n",
       "  </thead>\n",
       "  <tbody>\n",
       "    <tr>\n",
       "      <th>0.0</th>\n",
       "      <td>8.231131e+16</td>\n",
       "      <td>2008.322069</td>\n",
       "      <td>41.770021</td>\n",
       "      <td>1.464696</td>\n",
       "      <td>1.826032</td>\n",
       "      <td>2.976265</td>\n",
       "      <td>4.867784</td>\n",
       "      <td>0.07001</td>\n",
       "      <td>2.986292</td>\n",
       "      <td>0.288689</td>\n",
       "    </tr>\n",
       "    <tr>\n",
       "      <th>1.0</th>\n",
       "      <td>7.120499e+16</td>\n",
       "      <td>2008.673070</td>\n",
       "      <td>45.650333</td>\n",
       "      <td>1.695635</td>\n",
       "      <td>2.185090</td>\n",
       "      <td>3.417779</td>\n",
       "      <td>5.820572</td>\n",
       "      <td>0.05536</td>\n",
       "      <td>2.805911</td>\n",
       "      <td>0.520639</td>\n",
       "    </tr>\n",
       "  </tbody>\n",
       "</table>\n",
       "</div>"
      ],
      "text/plain": [
       "              PERSONID         YEAR        AGE    GENDER     DGRDG     EMSEC  \\\n",
       "salary_d                                                                       \n",
       "0.0       8.231131e+16  2008.322069  41.770021  1.464696  1.826032  2.976265   \n",
       "1.0       7.120499e+16  2008.673070  45.650333  1.695635  2.185090  3.417779   \n",
       "\n",
       "            EMSIZE   NEWBUS    WAPRSM     SUPWK  \n",
       "salary_d                                         \n",
       "0.0       4.867784  0.07001  2.986292  0.288689  \n",
       "1.0       5.820572  0.05536  2.805911  0.520639  "
      ]
     },
     "execution_count": 27,
     "metadata": {},
     "output_type": "execute_result"
    }
   ],
   "source": [
    "df_csal_nod.groupby('salary_d').mean()"
   ]
  },
  {
   "cell_type": "markdown",
   "metadata": {},
   "source": [
    "The average age of people making less than 60k is 42 compared to those making more than 60k is 46."
   ]
  },
  {
   "cell_type": "markdown",
   "metadata": {},
   "source": [
    "## Create dummy variables"
   ]
  },
  {
   "cell_type": "code",
   "execution_count": 28,
   "metadata": {},
   "outputs": [],
   "source": [
    "cat_vars=['SUPWK', 'DGRDG', 'GENDER', 'EMSEC', 'EMSIZE']\n",
    "for var in cat_vars:\n",
    "    cat_list='var'+ '_'+ var\n",
    "    cat_list = pd.get_dummies(df_csal_nod[var], prefix=var)\n",
    "    data = df_csal_nod.join(cat_list)\n",
    "    df_csal_nod = data\n",
    "    \n",
    "cat_vars = ['SUPWK', 'DGRDG', 'GENDER', 'EMSEC', 'EMSIZE']\n",
    "data_vars = df_csal_nod.columns.values.tolist()\n",
    "to_keep = [i for i in data_vars if i not in cat_vars]"
   ]
  },
  {
   "cell_type": "code",
   "execution_count": 29,
   "metadata": {},
   "outputs": [
    {
     "data": {
      "text/plain": [
       "array(['PERSONID', 'YEAR', 'AGE', 'NEWBUS', 'WAPRSM', 'salary_d',\n",
       "       'SUPWK_0.0', 'SUPWK_1.0', 'DGRDG_1', 'DGRDG_2', 'DGRDG_3',\n",
       "       'DGRDG_4', 'GENDER_1', 'GENDER_2', 'EMSEC_1.0', 'EMSEC_2.0',\n",
       "       'EMSEC_3.0', 'EMSEC_4.0', 'EMSIZE_1.0', 'EMSIZE_2.0', 'EMSIZE_3.0',\n",
       "       'EMSIZE_4.0', 'EMSIZE_5.0', 'EMSIZE_6.0', 'EMSIZE_7.0',\n",
       "       'EMSIZE_8.0'], dtype=object)"
      ]
     },
     "execution_count": 29,
     "metadata": {},
     "output_type": "execute_result"
    }
   ],
   "source": [
    "data_final = data[to_keep]\n",
    "data_final.columns.values"
   ]
  },
  {
   "cell_type": "markdown",
   "metadata": {},
   "source": [
    "## Check for over-sampling"
   ]
  },
  {
   "cell_type": "code",
   "execution_count": 30,
   "metadata": {},
   "outputs": [],
   "source": [
    "from imblearn.over_sampling import SMOTE"
   ]
  },
  {
   "cell_type": "code",
   "execution_count": 31,
   "metadata": {},
   "outputs": [],
   "source": [
    "#identify variables\n",
    "X = data_final.loc[:, data_final.columns != 'salary_d']\n",
    "y = data_final.loc[:, data_final.columns == 'salary_d']"
   ]
  },
  {
   "cell_type": "code",
   "execution_count": 32,
   "metadata": {},
   "outputs": [
    {
     "name": "stdout",
     "output_type": "stream",
     "text": [
      "Length of oversampled data is 154632\n",
      "Number of under $60k in oversampled data 77316\n",
      "Number of over $60k in oversampled data 77316\n",
      "Proportion of under $60k in oversampled data 0.5\n",
      "Proportion of over $60k in oversampled data 0.5\n"
     ]
    }
   ],
   "source": [
    "# split data\n",
    "os = SMOTE(random_state=42)\n",
    "X_train, X_test, y_train, y_test = train_test_split(X, y, test_size=0.3, random_state=42)\n",
    "columns = X_train.columns\n",
    "\n",
    "# balance training data set\n",
    "os_data_X, os_data_y = os.fit_sample(X_train, y_train.values.ravel())\n",
    "os_data_X = pd.DataFrame(data=os_data_X, columns=columns)\n",
    "os_data_y = pd.DataFrame(data=os_data_y, columns=['salary_d'])\n",
    "\n",
    "#check numbers of data\n",
    "print('Length of oversampled data is',len(os_data_X))\n",
    "print('Number of under $60k in oversampled data',len(os_data_y[os_data_y['salary_d']==0]))\n",
    "print('Number of over $60k in oversampled data',len(os_data_y[os_data_y['salary_d']==1]))\n",
    "print('Proportion of under $60k in oversampled data',len(os_data_y[os_data_y['salary_d']==0])/len(os_data_X))\n",
    "print('Proportion of over $60k in oversampled data',len(os_data_y[os_data_y['salary_d']==1])/len(os_data_X))"
   ]
  },
  {
   "cell_type": "markdown",
   "metadata": {},
   "source": [
    "Here we can see that the data is now perfectly balanced!"
   ]
  },
  {
   "cell_type": "code",
   "execution_count": 33,
   "metadata": {},
   "outputs": [],
   "source": [
    "from sklearn.feature_selection import RFE"
   ]
  },
  {
   "cell_type": "code",
   "execution_count": 34,
   "metadata": {},
   "outputs": [
    {
     "name": "stdout",
     "output_type": "stream",
     "text": [
      "[ True  True  True False  True  True  True  True False  True  True  True\n",
      "  True  True  True  True  True  True False  True  True False False  True\n",
      "  True]\n",
      "[1 1 1 2 1 1 1 1 5 1 1 1 1 1 1 1 1 1 3 1 1 4 6 1 1]\n"
     ]
    }
   ],
   "source": [
    "logreg = LogisticRegression(solver='lbfgs')\n",
    "\n",
    "rfe = RFE(logreg, 20)\n",
    "rfe = rfe.fit(os_data_X, os_data_y.values.ravel())\n",
    "print(rfe.support_)\n",
    "print(rfe.ranking_)"
   ]
  },
  {
   "cell_type": "code",
   "execution_count": 46,
   "metadata": {},
   "outputs": [],
   "source": [
    "cols = ['AGE', 'WAPRSM', \n",
    "        'SUPWK_0.0', 'SUPWK_1.0', 'DGRDG_1', 'DGRDG_3',\n",
    "       'DGRDG_4', 'GENDER_1', 'GENDER_2', 'EMSEC_1.0', 'EMSEC_2.0',\n",
    "       'EMSEC_3.0', 'EMSEC_4.0', 'EMSIZE_1.0', 'EMSIZE_3.0',\n",
    "       'EMSIZE_4.0', 'EMSIZE_7.0','EMSIZE_8.0']\n",
    "\n",
    "# update columns in training set\n",
    "X_os = os_data_X[cols]\n",
    "y_os = np.ravel(os_data_y, order='C')"
   ]
  },
  {
   "cell_type": "markdown",
   "metadata": {},
   "source": [
    "## Implement Logistic Regression Model"
   ]
  },
  {
   "cell_type": "code",
   "execution_count": 49,
   "metadata": {},
   "outputs": [
    {
     "data": {
      "text/plain": [
       "LogisticRegression(C=1.0, class_weight=None, dual=False, fit_intercept=True,\n",
       "          intercept_scaling=1, max_iter=300, multi_class='warn',\n",
       "          n_jobs=None, penalty='l2', random_state=None, solver='liblinear',\n",
       "          tol=0.0001, verbose=0, warm_start=False)"
      ]
     },
     "execution_count": 49,
     "metadata": {},
     "output_type": "execute_result"
    }
   ],
   "source": [
    "# Instantiate and fit model\n",
    "logreg = LogisticRegression(solver='liblinear', max_iter=300)\n",
    "logreg.fit(X_os, y_os)"
   ]
  },
  {
   "cell_type": "code",
   "execution_count": 50,
   "metadata": {},
   "outputs": [
    {
     "name": "stdout",
     "output_type": "stream",
     "text": [
      "Accuracy of Logistic Regression classifier: 0.72\n",
      "Confusion matrix on test set:\n",
      "[[13767  5718]\n",
      " [ 8989 24263]]\n",
      "Classification report on test set:\n",
      "              precision    recall  f1-score   support\n",
      "\n",
      "         0.0       0.60      0.71      0.65     19485\n",
      "         1.0       0.81      0.73      0.77     33252\n",
      "\n",
      "   micro avg       0.72      0.72      0.72     52737\n",
      "   macro avg       0.71      0.72      0.71     52737\n",
      "weighted avg       0.73      0.72      0.72     52737\n",
      "\n"
     ]
    }
   ],
   "source": [
    "# predict on test set\n",
    "y_pred = logreg.predict(X_test)\n",
    "print('Accuracy of Logistic Regression classifier: {:.2f}'.format(logreg.score(X_test, y_test)))\n",
    "\n",
    "# print confusion matrix and classification report\n",
    "print('Confusion matrix on test set:')\n",
    "print(confusion_matrix(y_test, y_pred))\n",
    "print('Classification report on test set:')\n",
    "print(classification_report(y_test, y_pred))"
   ]
  },
  {
   "cell_type": "markdown",
   "metadata": {},
   "source": [
    "## Accuracy of logistic regression classifier on test set: 0.72\n",
    "This result tells us that we have 13767 + 24263 correct predictions and 8989 + 5718 incorrect predictions"
   ]
  },
  {
   "cell_type": "code",
   "execution_count": 51,
   "metadata": {},
   "outputs": [
    {
     "name": "stderr",
     "output_type": "stream",
     "text": [
      "C:\\Users\\vangk\\AppData\\Local\\Continuum\\anaconda3\\lib\\site-packages\\sklearn\\model_selection\\_split.py:2053: FutureWarning: You should specify a value for 'cv' instead of relying on the default value. The default value will change from 3 to 5 in version 0.22.\n",
      "  warnings.warn(CV_WARNING, FutureWarning)\n"
     ]
    },
    {
     "name": "stdout",
     "output_type": "stream",
     "text": [
      "Best Score: 0.7243520099332609\n",
      "Best Parameters: {'C': 0.1, 'fit_intercept': True, 'penalty': 'l2', 'solver': 'liblinear'}\n"
     ]
    }
   ],
   "source": [
    "#another method to predict listing possible parameters\n",
    "clf = LogisticRegression(max_iter=300)\n",
    "\n",
    "parameters = [{'C':[0.1,1,10,100], 'solver':['lbfgs'], 'fit_intercept':[True]},\n",
    "              {'C':[0.1,1,10,100], 'solver':['liblinear'], 'penalty':['l1', 'l2'], 'fit_intercept':[True]}]\n",
    "\n",
    "# Instantiating and fitting model through grid search\n",
    "grid_logR = GridSearchCV(clf, param_grid=parameters)\n",
    "grid_logR.fit(X_os, y_os)\n",
    "\n",
    "# Printing the best score from the model\n",
    "print('Best Score:', grid_logR.best_score_)\n",
    "\n",
    "# Saving and printing the best parameters from the model\n",
    "best_params = grid_logR.best_params_\n",
    "print('Best Parameters:', best_params)"
   ]
  },
  {
   "cell_type": "code",
   "execution_count": 52,
   "metadata": {},
   "outputs": [
    {
     "name": "stdout",
     "output_type": "stream",
     "text": [
      "Cross Validation Accuracy Scores - Training Set: 0.72402(+/- 0.02)\n",
      "Cross Validation Accuracy Scores - Test Set: 0.73675(+/- 0.01)\n",
      "Confusion matrix on the test data:\n",
      "[[13761  5724]\n",
      " [ 8983 24269]]\n",
      "Classification report on the test data:\n",
      "              precision    recall  f1-score   support\n",
      "\n",
      "         0.0       0.61      0.71      0.65     19485\n",
      "         1.0       0.81      0.73      0.77     33252\n",
      "\n",
      "   micro avg       0.72      0.72      0.72     52737\n",
      "   macro avg       0.71      0.72      0.71     52737\n",
      "weighted avg       0.73      0.72      0.72     52737\n",
      "\n"
     ]
    }
   ],
   "source": [
    "#initiate a instance for classifier\n",
    "clf = LogisticRegression(**best_params, max_iter=300)\n",
    "#clf = RandomForestClassifier(n_estimators=50, max_depth=100)\n",
    "\n",
    "# Fit the classifier to the training data\n",
    "clf.fit(X_os, y_os)\n",
    "\n",
    "# Predict on test data\n",
    "y_pred = clf.predict(X_test)\n",
    "\n",
    "scores_LR_train = cross_val_score(clf, X_os, y_os, cv=5)\n",
    "print('Cross Validation Accuracy Scores - Training Set: {:.5f}(+/- {:.2f})'.format(scores_LR_train.mean(), \n",
    "                                                                                 scores_LR_train.std()*2))\n",
    "scores_LR_test = cross_val_score(clf, X_test, np.ravel(y_test, order='C'), cv=5)\n",
    "print('Cross Validation Accuracy Scores - Test Set: {:.5f}(+/- {:.2f})'.format(scores_LR_test.mean(), \n",
    "                                                                            scores_LR_test.std()*2))\n",
    "\n",
    "\n",
    "# Generate confusion matrix and classification report\n",
    "print('Confusion matrix on the test data:')\n",
    "print(confusion_matrix(y_test, y_pred))\n",
    "print('Classification report on the test data:')\n",
    "print(classification_report(y_test, y_pred))"
   ]
  },
  {
   "cell_type": "markdown",
   "metadata": {},
   "source": [
    "### Finding the best parameters gave a better accuracy score of 74!"
   ]
  },
  {
   "cell_type": "code",
   "execution_count": 38,
   "metadata": {},
   "outputs": [
    {
     "name": "stdout",
     "output_type": "stream",
     "text": [
      "\n",
      "Features with the most impact on higher salary levels\n"
     ]
    },
    {
     "data": {
      "text/html": [
       "<div>\n",
       "<style scoped>\n",
       "    .dataframe tbody tr th:only-of-type {\n",
       "        vertical-align: middle;\n",
       "    }\n",
       "\n",
       "    .dataframe tbody tr th {\n",
       "        vertical-align: top;\n",
       "    }\n",
       "\n",
       "    .dataframe thead th {\n",
       "        text-align: right;\n",
       "    }\n",
       "</style>\n",
       "<table border=\"1\" class=\"dataframe\">\n",
       "  <thead>\n",
       "    <tr style=\"text-align: right;\">\n",
       "      <th></th>\n",
       "      <th>Attribute</th>\n",
       "      <th>Coef</th>\n",
       "      <th>Odds_Ratios</th>\n",
       "    </tr>\n",
       "  </thead>\n",
       "  <tbody>\n",
       "    <tr>\n",
       "      <th>12</th>\n",
       "      <td>EMSEC_4.0</td>\n",
       "      <td>1.067469</td>\n",
       "      <td>2.908011</td>\n",
       "    </tr>\n",
       "    <tr>\n",
       "      <th>6</th>\n",
       "      <td>DGRDG_4</td>\n",
       "      <td>0.843250</td>\n",
       "      <td>2.323906</td>\n",
       "    </tr>\n",
       "    <tr>\n",
       "      <th>17</th>\n",
       "      <td>EMSIZE_8.0</td>\n",
       "      <td>0.780036</td>\n",
       "      <td>2.181552</td>\n",
       "    </tr>\n",
       "    <tr>\n",
       "      <th>5</th>\n",
       "      <td>DGRDG_3</td>\n",
       "      <td>0.566347</td>\n",
       "      <td>1.761820</td>\n",
       "    </tr>\n",
       "    <tr>\n",
       "      <th>16</th>\n",
       "      <td>EMSIZE_7.0</td>\n",
       "      <td>0.427860</td>\n",
       "      <td>1.533971</td>\n",
       "    </tr>\n",
       "    <tr>\n",
       "      <th>11</th>\n",
       "      <td>EMSEC_3.0</td>\n",
       "      <td>0.279830</td>\n",
       "      <td>1.322905</td>\n",
       "    </tr>\n",
       "  </tbody>\n",
       "</table>\n",
       "</div>"
      ],
      "text/plain": [
       "     Attribute      Coef  Odds_Ratios\n",
       "12   EMSEC_4.0  1.067469     2.908011\n",
       "6      DGRDG_4  0.843250     2.323906\n",
       "17  EMSIZE_8.0  0.780036     2.181552\n",
       "5      DGRDG_3  0.566347     1.761820\n",
       "16  EMSIZE_7.0  0.427860     1.533971\n",
       "11   EMSEC_3.0  0.279830     1.322905"
      ]
     },
     "execution_count": 38,
     "metadata": {},
     "output_type": "execute_result"
    }
   ],
   "source": [
    "# Creating Data Frame with Features and Logistic Regression Coefficients\n",
    "coefs_lg = pd.concat([pd.DataFrame(X_train.columns), pd.DataFrame(np.transpose(clf.coef_))], axis=1)\n",
    "coefs_lg.columns = ['Attribute', 'Coef']\n",
    "\n",
    "# Calculating exponentiated coefficients for interpretation\n",
    "coefs_lg['Odds_Ratios'] = np.exp(coefs_lg['Coef'])\n",
    "print('\\nFeatures with the most impact on higher salary levels'f\n",
    "coefs_lg.sort_values('Odds_Ratios', ascending=False).head(6)"
   ]
  },
  {
   "cell_type": "markdown",
   "metadata": {},
   "source": [
    "Here we see that three main features have an important impact on higher salary levels: Employment sectors, degree, and employment size. "
   ]
  },
  {
   "cell_type": "markdown",
   "metadata": {},
   "source": [
    "# Implement KNN Classifier"
   ]
  },
  {
   "cell_type": "code",
   "execution_count": null,
   "metadata": {},
   "outputs": [],
   "source": [
    "knn = KNeighborsClassifier()\n",
    "param_grid = {\"n_neighbors\": [5, 10, 15],\n",
    "              \"leaf_size\": [10, 30, 50],\n",
    "              \"weights\": ['uniform', 'distance']}\n",
    "\n",
    "grid_knn = GridSearchCV(knn, param_grid=param_grid, cv=5)\n",
    "grid_knn.fit(X_os, y_os)\n",
    "\n",
    "# Printing the best score from the model\n",
    "print('Best Score:', grid_knn.best_score_)\n",
    "\n",
    "# Saving and printing the best parameters from the model\n",
    "best_params = grid_knn.best_params_\n",
    "print('Best Parameters:', best_params)"
   ]
  },
  {
   "cell_type": "code",
   "execution_count": null,
   "metadata": {},
   "outputs": [],
   "source": [
    "#initiate a instance for classifier\n",
    "knn = KNeighborsClassifier(**best_params)\n",
    "\n",
    "# Fit the classifier to the training data\n",
    "knn.fit(X_os, y_os)\n",
    "\n",
    "# Predict the labels of the test data: y_pred\n",
    "y_pred = knn.predict(X_test)\n",
    "\n",
    "scores_knn_train = cross_val_score(knn, X_os, y_os, cv=5)\n",
    "print('Cross Validation Accuracy Scores - Training Set: {:.5f}(+/- {:.2f})'.format(scores_knn_train.mean(), \n",
    "                                                                                 scores_knn_train.std()*2))\n",
    "scores_knn_test = cross_val_score(knn, X_test, y_test, cv=5)\n",
    "print('Cross Validation Accuracy Scores - Test Set: {:.5f}(+/- {:.2f})'.format(scores_knn_test.mean(), \n",
    "                                                                                 scores_knn_test.std()*2))\n",
    "\n",
    "score_train.append(scores_knn_train.mean())\n",
    "score_test.append(scores_knn_test.mean())\n",
    "\n",
    "# Generate the confusion matrix and classification report\n",
    "print('Confusion matrix on the test data:')\n",
    "print(confusion_matrix(y_test, y_pred))\n",
    "print('Classification report on the test data:')\n",
    "print(classification_report(y_test, y_pred))"
   ]
  },
  {
   "cell_type": "markdown",
   "metadata": {},
   "source": [
    "## Random Forest Classifier"
   ]
  },
  {
   "cell_type": "code",
   "execution_count": 47,
   "metadata": {},
   "outputs": [
    {
     "name": "stdout",
     "output_type": "stream",
     "text": [
      "Best Score: 0.7818174763309017\n",
      "Best Parameters: {'max_depth': 10, 'max_features': 18, 'n_estimators': 50}\n"
     ]
    }
   ],
   "source": [
    "rf = RandomForestClassifier()\n",
    "param_grid = {\"n_estimators\": [30, 50, 75],\n",
    "              \"max_features\": [18],\n",
    "              \"max_depth\": [10, 100, 300]}\n",
    "\n",
    "grid_rf = GridSearchCV(rf, param_grid=param_grid, cv=5)\n",
    "grid_rf.fit(X_os, y_os)\n",
    "\n",
    "# Printing the best score from the model\n",
    "print('Best Score:', grid_rf.best_score_)\n",
    "\n",
    "# Saving and printing the best parameters from the model\n",
    "best_params = grid_rf.best_params_\n",
    "print('Best Parameters:', best_params)"
   ]
  },
  {
   "cell_type": "code",
   "execution_count": 48,
   "metadata": {},
   "outputs": [
    {
     "name": "stdout",
     "output_type": "stream",
     "text": [
      "Cross Validation Accuracy Scores - Training Set: 0.78151(+/- 0.17)\n",
      "Cross Validation Accuracy Scores - Test Set: 0.74966(+/- 0.01)\n",
      "Confusion matrix on the test data:\n",
      "[[12143  7342]\n",
      " [ 5760 27492]]\n",
      "Classification report on the test data:\n",
      "              precision    recall  f1-score   support\n",
      "\n",
      "         0.0       0.68      0.62      0.65     19485\n",
      "         1.0       0.79      0.83      0.81     33252\n",
      "\n",
      "   micro avg       0.75      0.75      0.75     52737\n",
      "   macro avg       0.73      0.72      0.73     52737\n",
      "weighted avg       0.75      0.75      0.75     52737\n",
      "\n"
     ]
    }
   ],
   "source": [
    "#initiate a instance for classifier\n",
    "rf = RandomForestClassifier(**best_params)\n",
    "\n",
    "# Fit the classifier to the training data\n",
    "rf.fit(X_os, y_os)\n",
    "\n",
    "# Predict the labels of the test data: y_pred\n",
    "y_pred = rf.predict(X_test)\n",
    "\n",
    "scores_rf_train = cross_val_score(rf, X_os, y_os, cv=5)\n",
    "print('Cross Validation Accuracy Scores - Training Set: {:.5f}(+/- {:.2f})'.format(scores_rf_train.mean(), \n",
    "                                                                                 scores_rf_train.std()*2))\n",
    "scores_rf_test = cross_val_score(rf, X_test, np.ravel(y_test, order='C'), cv=5)\n",
    "print('Cross Validation Accuracy Scores - Test Set: {:.5f}(+/- {:.2f})'.format(scores_rf_test.mean(), \n",
    "                                                                                 scores_rf_test.std()*2))\n",
    "\n",
    "# Generate the classification report\n",
    "print('Confusion matrix on the test data:')\n",
    "print(confusion_matrix(y_test, y_pred))\n",
    "print('Classification report on the test data:')\n",
    "print(classification_report(y_test, y_pred))"
   ]
  },
  {
   "cell_type": "markdown",
   "metadata": {},
   "source": [
    "## Accuracy of Random Forest Classifier on test set: 0.75"
   ]
  },
  {
   "cell_type": "code",
   "execution_count": 53,
   "metadata": {},
   "outputs": [
    {
     "data": {
      "image/png": "[encoded data removed]",
      "text/plain": [
       "<Figure size 432x288 with 1 Axes>"
      ]
     },
     "metadata": {
      "needs_background": "light"
     },
     "output_type": "display_data"
    }
   ],
   "source": [
    "## prepare ROC curve plot\n",
    "y_pred_prob_lg = clf.predict_proba(X_test)[:,1]\n",
    "y_pred_prob_rf = rf.predict_proba(X_test)[:,1]\n",
    "\n",
    "\n",
    "# Generate ROC curve values: fpr, tpr, thresholds\n",
    "fpr_lg, tpr_lg, thresholds_lg = roc_curve(y_test, y_pred_prob_lg)\n",
    "fpr_rf, tpr_rf, thresholds_rf = roc_curve(y_test, y_pred_prob_rf)\n",
    "\n",
    "\n",
    "# Plot ROC curve\n",
    "plt.plot([0, 1], [0, 1], 'k--')\n",
    "plt.plot(fpr_lg, tpr_lg, 'red', label='Logistic regression')\n",
    "plt.plot(fpr_rf, tpr_rf, 'blue', label='Random Forest Classifier')\n",
    "plt.xlabel('False Positive Rate')\n",
    "plt.ylabel('True Positive Rate')\n",
    "plt.legend()\n",
    "plt.title('ROC Curve')\n",
    "plt.show()"
   ]
  },
  {
   "cell_type": "markdown",
   "metadata": {},
   "source": [
    "## Predict salary level of employed mothers in 2013:\n",
    "Now we can run the Random Forest Classifier model on the latest data, 2013. The goal of this project is to predict salary of mothers in the workforce, since RFC has the best accuracy score, we will use that model instead."
   ]
  },
  {
   "cell_type": "code",
   "execution_count": 73,
   "metadata": {},
   "outputs": [
    {
     "data": {
      "text/html": [
       "<div>\n",
       "<style scoped>\n",
       "    .dataframe tbody tr th:only-of-type {\n",
       "        vertical-align: middle;\n",
       "    }\n",
       "\n",
       "    .dataframe tbody tr th {\n",
       "        vertical-align: top;\n",
       "    }\n",
       "\n",
       "    .dataframe thead th {\n",
       "        text-align: right;\n",
       "    }\n",
       "</style>\n",
       "<table border=\"1\" class=\"dataframe\">\n",
       "  <thead>\n",
       "    <tr style=\"text-align: right;\">\n",
       "      <th></th>\n",
       "      <th>PERSONID</th>\n",
       "      <th>YEAR</th>\n",
       "      <th>AGE</th>\n",
       "      <th>NEWBUS</th>\n",
       "      <th>WAPRSM</th>\n",
       "      <th>SUPWK_0.0</th>\n",
       "      <th>SUPWK_1.0</th>\n",
       "      <th>DGRDG_1</th>\n",
       "      <th>DGRDG_2</th>\n",
       "      <th>DGRDG_3</th>\n",
       "      <th>...</th>\n",
       "      <th>EMSEC_3.0</th>\n",
       "      <th>EMSEC_4.0</th>\n",
       "      <th>EMSIZE_1.0</th>\n",
       "      <th>EMSIZE_2.0</th>\n",
       "      <th>EMSIZE_3.0</th>\n",
       "      <th>EMSIZE_4.0</th>\n",
       "      <th>EMSIZE_5.0</th>\n",
       "      <th>EMSIZE_6.0</th>\n",
       "      <th>EMSIZE_7.0</th>\n",
       "      <th>EMSIZE_8.0</th>\n",
       "    </tr>\n",
       "  </thead>\n",
       "  <tbody>\n",
       "    <tr>\n",
       "      <th>91551</th>\n",
       "      <td>20000000003230008</td>\n",
       "      <td>2013</td>\n",
       "      <td>56</td>\n",
       "      <td>1.0</td>\n",
       "      <td>3.0</td>\n",
       "      <td>0</td>\n",
       "      <td>1</td>\n",
       "      <td>0</td>\n",
       "      <td>0</td>\n",
       "      <td>1</td>\n",
       "      <td>...</td>\n",
       "      <td>0</td>\n",
       "      <td>1</td>\n",
       "      <td>1</td>\n",
       "      <td>0</td>\n",
       "      <td>0</td>\n",
       "      <td>0</td>\n",
       "      <td>0</td>\n",
       "      <td>0</td>\n",
       "      <td>0</td>\n",
       "      <td>0</td>\n",
       "    </tr>\n",
       "    <tr>\n",
       "      <th>91553</th>\n",
       "      <td>20000000008220909</td>\n",
       "      <td>2013</td>\n",
       "      <td>59</td>\n",
       "      <td>0.0</td>\n",
       "      <td>3.0</td>\n",
       "      <td>0</td>\n",
       "      <td>1</td>\n",
       "      <td>0</td>\n",
       "      <td>0</td>\n",
       "      <td>1</td>\n",
       "      <td>...</td>\n",
       "      <td>0</td>\n",
       "      <td>1</td>\n",
       "      <td>0</td>\n",
       "      <td>0</td>\n",
       "      <td>0</td>\n",
       "      <td>0</td>\n",
       "      <td>0</td>\n",
       "      <td>0</td>\n",
       "      <td>1</td>\n",
       "      <td>0</td>\n",
       "    </tr>\n",
       "    <tr>\n",
       "      <th>91554</th>\n",
       "      <td>20000000008250309</td>\n",
       "      <td>2013</td>\n",
       "      <td>58</td>\n",
       "      <td>0.0</td>\n",
       "      <td>1.0</td>\n",
       "      <td>0</td>\n",
       "      <td>1</td>\n",
       "      <td>0</td>\n",
       "      <td>0</td>\n",
       "      <td>1</td>\n",
       "      <td>...</td>\n",
       "      <td>0</td>\n",
       "      <td>0</td>\n",
       "      <td>0</td>\n",
       "      <td>0</td>\n",
       "      <td>0</td>\n",
       "      <td>0</td>\n",
       "      <td>0</td>\n",
       "      <td>0</td>\n",
       "      <td>0</td>\n",
       "      <td>1</td>\n",
       "    </tr>\n",
       "    <tr>\n",
       "      <th>91556</th>\n",
       "      <td>20000000103230700</td>\n",
       "      <td>2013</td>\n",
       "      <td>61</td>\n",
       "      <td>0.0</td>\n",
       "      <td>1.0</td>\n",
       "      <td>1</td>\n",
       "      <td>0</td>\n",
       "      <td>0</td>\n",
       "      <td>0</td>\n",
       "      <td>1</td>\n",
       "      <td>...</td>\n",
       "      <td>0</td>\n",
       "      <td>0</td>\n",
       "      <td>0</td>\n",
       "      <td>0</td>\n",
       "      <td>0</td>\n",
       "      <td>0</td>\n",
       "      <td>0</td>\n",
       "      <td>0</td>\n",
       "      <td>0</td>\n",
       "      <td>1</td>\n",
       "    </tr>\n",
       "    <tr>\n",
       "      <th>91558</th>\n",
       "      <td>20000000104230409</td>\n",
       "      <td>2013</td>\n",
       "      <td>63</td>\n",
       "      <td>1.0</td>\n",
       "      <td>1.0</td>\n",
       "      <td>1</td>\n",
       "      <td>0</td>\n",
       "      <td>0</td>\n",
       "      <td>0</td>\n",
       "      <td>1</td>\n",
       "      <td>...</td>\n",
       "      <td>0</td>\n",
       "      <td>1</td>\n",
       "      <td>1</td>\n",
       "      <td>0</td>\n",
       "      <td>0</td>\n",
       "      <td>0</td>\n",
       "      <td>0</td>\n",
       "      <td>0</td>\n",
       "      <td>0</td>\n",
       "      <td>0</td>\n",
       "    </tr>\n",
       "  </tbody>\n",
       "</table>\n",
       "<p>5 rows × 24 columns</p>\n",
       "</div>"
      ],
      "text/plain": [
       "                PERSONID  YEAR  AGE  NEWBUS  WAPRSM  SUPWK_0.0  SUPWK_1.0  \\\n",
       "91551  20000000003230008  2013   56     1.0     3.0          0          1   \n",
       "91553  20000000008220909  2013   59     0.0     3.0          0          1   \n",
       "91554  20000000008250309  2013   58     0.0     1.0          0          1   \n",
       "91556  20000000103230700  2013   61     0.0     1.0          1          0   \n",
       "91558  20000000104230409  2013   63     1.0     1.0          1          0   \n",
       "\n",
       "       DGRDG_1  DGRDG_2  DGRDG_3     ...      EMSEC_3.0  EMSEC_4.0  \\\n",
       "91551        0        0        1     ...              0          1   \n",
       "91553        0        0        1     ...              0          1   \n",
       "91554        0        0        1     ...              0          0   \n",
       "91556        0        0        1     ...              0          0   \n",
       "91558        0        0        1     ...              0          1   \n",
       "\n",
       "       EMSIZE_1.0  EMSIZE_2.0  EMSIZE_3.0  EMSIZE_4.0  EMSIZE_5.0  EMSIZE_6.0  \\\n",
       "91551           1           0           0           0           0           0   \n",
       "91553           0           0           0           0           0           0   \n",
       "91554           0           0           0           0           0           0   \n",
       "91556           0           0           0           0           0           0   \n",
       "91558           1           0           0           0           0           0   \n",
       "\n",
       "       EMSIZE_7.0  EMSIZE_8.0  \n",
       "91551           0           0  \n",
       "91553           1           0  \n",
       "91554           0           1  \n",
       "91556           0           1  \n",
       "91558           0           0  \n",
       "\n",
       "[5 rows x 24 columns]"
      ]
     },
     "execution_count": 73,
     "metadata": {},
     "output_type": "execute_result"
    }
   ],
   "source": [
    "# Set data to year 2013\n",
    "data_2013 = data_final[data_final['YEAR']==2013].drop('GENDER_2', axis=1)\n",
    "                        \n",
    "# Identify variables\n",
    "X = data_2013.loc[:, data_2013.columns != 'salary_d']\n",
    "y = data_2013.loc[:, data_2013.columns == 'salary_d']\n",
    "\n",
    "X.head()"
   ]
  },
  {
   "cell_type": "code",
   "execution_count": 74,
   "metadata": {},
   "outputs": [
    {
     "name": "stdout",
     "output_type": "stream",
     "text": [
      "Length of oversampled data is 87728\n",
      "Number of under $60k in oversampled data 43864\n",
      "Number of over $60k in oversampled data 43864\n",
      "Proportion of under $60k in oversampled data 0.5\n",
      "Proportion of over $60k in oversampled data 0.5\n"
     ]
    }
   ],
   "source": [
    "os = SMOTE(random_state=42)\n",
    "X_train, X_test, y_train, y_test = train_test_split(X, y, test_size=0.3, random_state=42)\n",
    "columns = X_train.columns\n",
    "\n",
    "os_data_X, os_data_y = os.fit_sample(X_train, y_train.values.ravel())\n",
    "os_data_X = pd.DataFrame(data=os_data_X, columns=columns)\n",
    "os_data_y = pd.DataFrame(data=os_data_y, columns=['salary_d'])\n",
    "\n",
    "X_os = os_data_X\n",
    "y_os = np.ravel(os_data_y, order='C')\n",
    "\n",
    "#check numbers of data\n",
    "print('Length of oversampled data is',len(os_data_X))\n",
    "print('Number of under $60k in oversampled data',len(os_data_y[os_data_y['salary_d']==0]))\n",
    "print('Number of over $60k in oversampled data',len(os_data_y[os_data_y['salary_d']==1]))\n",
    "print('Proportion of under $60k in oversampled data',len(os_data_y[os_data_y['salary_d']==0])/len(os_data_X))\n",
    "print('Proportion of over $60k in oversampled data',len(os_data_y[os_data_y['salary_d']==1])/len(os_data_X))"
   ]
  },
  {
   "cell_type": "code",
   "execution_count": 79,
   "metadata": {},
   "outputs": [
    {
     "name": "stdout",
     "output_type": "stream",
     "text": [
      "Best Score: 0.8002690133138792\n",
      "Best Parameters: {'max_depth': 10, 'max_features': 18, 'n_estimators': 75}\n"
     ]
    }
   ],
   "source": [
    "rf = RandomForestClassifier()\n",
    "param_grid = {\"n_estimators\": [30, 50, 75],\n",
    "              \"max_features\": [18],\n",
    "              \"max_depth\": [10, 100, 300]}\n",
    "\n",
    "grid_rf = GridSearchCV(rf, param_grid=param_grid, cv=5)\n",
    "grid_rf.fit(X_os, y_os)\n",
    "\n",
    "# Printing the best score from the model\n",
    "print('Best Score:', grid_rf.best_score_)\n",
    "\n",
    "# Saving and printing the best parameters from the model\n",
    "best_params = grid_rf.best_params_\n",
    "print('Best Parameters:', best_params)"
   ]
  },
  {
   "cell_type": "code",
   "execution_count": 80,
   "metadata": {},
   "outputs": [
    {
     "name": "stdout",
     "output_type": "stream",
     "text": [
      "Cross Validation Accuracy Scores - Training Set: 0.80039(+/- 0.16)\n",
      "Cross Validation Accuracy Scores - Test Set: 0.77257(+/- 0.01)\n",
      "[[ 6539  3830]\n",
      " [ 2867 15995]]\n",
      "Classification report on the test data:\n",
      "              precision    recall  f1-score   support\n",
      "\n",
      "         0.0       0.70      0.63      0.66     10369\n",
      "         1.0       0.81      0.85      0.83     18862\n",
      "\n",
      "   micro avg       0.77      0.77      0.77     29231\n",
      "   macro avg       0.75      0.74      0.74     29231\n",
      "weighted avg       0.77      0.77      0.77     29231\n",
      "\n"
     ]
    }
   ],
   "source": [
    "#initiate a instance for classifier\n",
    "rf = RandomForestClassifier(**best_params)\n",
    "\n",
    "# Fit the classifier to the training data\n",
    "rf.fit(X_os, y_os)\n",
    "\n",
    "# Predict the labels of the test data: y_pred\n",
    "y_pred = rf.predict(X_test)\n",
    "\n",
    "scores_rf_train = cross_val_score(rf, X_os, y_os, cv=5)\n",
    "print('Cross Validation Accuracy Scores - Training Set: {:.5f}(+/- {:.2f})'.format(scores_rf_train.mean(), \n",
    "                                                                                 scores_rf_train.std()*2))\n",
    "scores_rf_test = cross_val_score(rf, X_test, y_test.values.ravel(), cv=5)\n",
    "print('Cross Validation Accuracy Scores - Test Set: {:.5f}(+/- {:.2f})'.format(scores_rf_test.mean(), \n",
    "                                                                                 scores_rf_test.std()*2))\n",
    "\n",
    "# Generate the classification report\n",
    "print(confusion_matrix(y_test, y_pred))\n",
    "print('Classification report on the test data:')\n",
    "print(classification_report(y_test, y_pred))"
   ]
  },
  {
   "cell_type": "code",
   "execution_count": 81,
   "metadata": {},
   "outputs": [
    {
     "name": "stdout",
     "output_type": "stream",
     "text": [
      "\n",
      "Features with the most impact on higher income levels for women\n"
     ]
    },
    {
     "data": {
      "text/html": [
       "<div>\n",
       "<style scoped>\n",
       "    .dataframe tbody tr th:only-of-type {\n",
       "        vertical-align: middle;\n",
       "    }\n",
       "\n",
       "    .dataframe tbody tr th {\n",
       "        vertical-align: top;\n",
       "    }\n",
       "\n",
       "    .dataframe thead th {\n",
       "        text-align: right;\n",
       "    }\n",
       "</style>\n",
       "<table border=\"1\" class=\"dataframe\">\n",
       "  <thead>\n",
       "    <tr style=\"text-align: right;\">\n",
       "      <th></th>\n",
       "      <th>Attribute</th>\n",
       "      <th>Coef</th>\n",
       "      <th>Odds_Ratios</th>\n",
       "    </tr>\n",
       "  </thead>\n",
       "  <tbody>\n",
       "    <tr>\n",
       "      <th>12</th>\n",
       "      <td>EMSEC_1.0</td>\n",
       "      <td>1.041190</td>\n",
       "      <td>2.832587</td>\n",
       "    </tr>\n",
       "    <tr>\n",
       "      <th>6</th>\n",
       "      <td>SUPWK_1.0</td>\n",
       "      <td>0.911112</td>\n",
       "      <td>2.487087</td>\n",
       "    </tr>\n",
       "    <tr>\n",
       "      <th>17</th>\n",
       "      <td>EMSIZE_2.0</td>\n",
       "      <td>0.843829</td>\n",
       "      <td>2.325252</td>\n",
       "    </tr>\n",
       "    <tr>\n",
       "      <th>5</th>\n",
       "      <td>SUPWK_0.0</td>\n",
       "      <td>0.581886</td>\n",
       "      <td>1.789410</td>\n",
       "    </tr>\n",
       "    <tr>\n",
       "      <th>16</th>\n",
       "      <td>EMSIZE_1.0</td>\n",
       "      <td>0.498461</td>\n",
       "      <td>1.646186</td>\n",
       "    </tr>\n",
       "  </tbody>\n",
       "</table>\n",
       "</div>"
      ],
      "text/plain": [
       "     Attribute      Coef  Odds_Ratios\n",
       "12   EMSEC_1.0  1.041190     2.832587\n",
       "6    SUPWK_1.0  0.911112     2.487087\n",
       "17  EMSIZE_2.0  0.843829     2.325252\n",
       "5    SUPWK_0.0  0.581886     1.789410\n",
       "16  EMSIZE_1.0  0.498461     1.646186"
      ]
     },
     "execution_count": 81,
     "metadata": {},
     "output_type": "execute_result"
    }
   ],
   "source": [
    "# Creating Data Frame with Features and Logistic Regression Coefficients\n",
    "coefs_lg = pd.concat([pd.DataFrame(X_train.columns), pd.DataFrame(np.transpose(clf.coef_))], axis=1)\n",
    "coefs_lg.columns = ['Attribute', 'Coef']\n",
    "# Calculating exponentiated coefficients for interpretation\n",
    "coefs_lg['Odds_Ratios'] = np.exp(coefs_lg['Coef'])\n",
    "print('\\nFeatures with the most impact on higher income levels for women')\n",
    "coefs_lg.sort_values('Odds_Ratios', ascending=False).head(5)"
   ]
  },
  {
   "cell_type": "markdown",
   "metadata": {},
   "source": [
    "The greatest impact on mother's income level stem from employment sectors - specifically working in 2 year colleges or other school systems, having supervisory experience, and working in small companies."
   ]
  },
  {
   "cell_type": "markdown",
   "metadata": {},
   "source": [
    "# Predict job sector\n",
    "Suppose you're a mother returning to the workforce, what type of sector should you expect to work in?"
   ]
  },
  {
   "cell_type": "code",
   "execution_count": 106,
   "metadata": {},
   "outputs": [
    {
     "data": {
      "text/plain": [
       "Index(['PERSONID', 'YEAR', 'WEIGHT', 'SAMPLE', 'SURID', 'AGE', 'GENDER',\n",
       "       'RACETH', 'CHTOT', 'DGRDG', 'LFSTAT', 'EMSEC', 'EMSIZE', 'NEWBUS',\n",
       "       'WAPRSM', 'SUPWK', 'SALARY', 'CHFAM', 'SUPWK_0.0', 'SUPWK_1.0',\n",
       "       'DGRDG_1', 'DGRDG_2', 'DGRDG_3', 'DGRDG_4', 'GENDER_1', 'GENDER_2',\n",
       "       'EMSIZE_1.0', 'EMSIZE_2.0', 'EMSIZE_3.0', 'EMSIZE_4.0', 'EMSIZE_5.0',\n",
       "       'EMSIZE_6.0', 'EMSIZE_7.0', 'EMSIZE_8.0'],\n",
       "      dtype='object')"
      ]
     },
     "execution_count": 106,
     "metadata": {},
     "output_type": "execute_result"
    }
   ],
   "source": [
    "# Check columns in dataframe\n",
    "data = df_emp_child\n",
    "\n",
    "data.columns"
   ]
  },
  {
   "cell_type": "code",
   "execution_count": 107,
   "metadata": {},
   "outputs": [
    {
     "data": {
      "text/plain": [
       "4.0    107597\n",
       "2.0     35048\n",
       "3.0     20596\n",
       "1.0     13616\n",
       "Name: EMSEC, dtype: int64"
      ]
     },
     "execution_count": 107,
     "metadata": {},
     "output_type": "execute_result"
    }
   ],
   "source": [
    "df_emp_child['EMSEC'].value_counts()"
   ]
  },
  {
   "cell_type": "code",
   "execution_count": 112,
   "metadata": {},
   "outputs": [],
   "source": [
    "# Drop unnecessary columns\n",
    "data_final_s = data.drop(['WEIGHT', 'SAMPLE', 'SURID', 'GENDER',\n",
    "       'RACETH', 'CHTOT', 'DGRDG', 'LFSTAT', 'EMSIZE', 'NEWBUS',\n",
    "       'WAPRSM', 'SUPWK', 'SALARY', 'CHFAM'], axis=1)"
   ]
  },
  {
   "cell_type": "code",
   "execution_count": 117,
   "metadata": {},
   "outputs": [
    {
     "data": {
      "text/plain": [
       "Index(['PERSONID', 'YEAR', 'AGE', 'EMSEC', 'SUPWK_0.0', 'SUPWK_1.0', 'DGRDG_1',\n",
       "       'DGRDG_2', 'DGRDG_3', 'DGRDG_4', 'GENDER_1', 'GENDER_2', 'EMSIZE_1.0',\n",
       "       'EMSIZE_2.0', 'EMSIZE_3.0', 'EMSIZE_4.0', 'EMSIZE_5.0', 'EMSIZE_6.0',\n",
       "       'EMSIZE_7.0', 'EMSIZE_8.0'],\n",
       "      dtype='object')"
      ]
     },
     "execution_count": 117,
     "metadata": {},
     "output_type": "execute_result"
    }
   ],
   "source": [
    "data_final_s.columns"
   ]
  },
  {
   "cell_type": "code",
   "execution_count": 139,
   "metadata": {},
   "outputs": [
    {
     "data": {
      "text/plain": [
       "pandas.core.frame.DataFrame"
      ]
     },
     "execution_count": 139,
     "metadata": {},
     "output_type": "execute_result"
    }
   ],
   "source": [
    "# check for oversampling\n",
    "#identify variables\n",
    "X = data_final_s.loc[:, data_final_s.columns != 'EMSEC']\n",
    "y = data_final_s.loc[:, data_final_s.columns == 'EMSEC']"
   ]
  },
  {
   "cell_type": "code",
   "execution_count": 122,
   "metadata": {},
   "outputs": [
    {
     "name": "stdout",
     "output_type": "stream",
     "text": [
      "Length of oversampled data is 301508\n",
      "Number of 2 yr colleges in oversampled data 75377\n",
      "Number of 4 yr colleges in oversampled data 75377\n",
      "Number of goverment jobs in oversampled data 75377\n",
      "Number of industry jobs in oversampled data 75377\n",
      "Proportion of 2 yr colleges in oversampled data 0.25\n",
      "Proportion of 4 yr colleges in data 0.25\n",
      "Proportion of government jobs in oversampled data 0.25\n",
      "Proportion of industry jobs in oversampled data 0.25\n"
     ]
    }
   ],
   "source": [
    "# split data\n",
    "os = SMOTE(random_state=42)\n",
    "X_train, X_test, y_train, y_test = train_test_split(X, y, test_size=0.3, random_state=42)\n",
    "columns = X_train.columns\n",
    "\n",
    "# balance training data set\n",
    "os_data_X, os_data_y = os.fit_sample(X_train, np.ravel(y_train, order='C'))\n",
    "os_data_X = pd.DataFrame(data=os_data_X, columns=columns)\n",
    "os_data_y = pd.DataFrame(data=os_data_y, columns=['EMSEC'])\n",
    "\n",
    "X_oss = os_data_X\n",
    "y_oss = np.ravel(os_data_y, order='C')\n",
    "\n",
    "\n",
    "#check numbers of data\n",
    "print('Length of oversampled data is',len(os_data_X))\n",
    "print('Number of 2 yr colleges in oversampled data',len(os_data_y[os_data_y['EMSEC']==1]))\n",
    "print('Number of 4 yr colleges in oversampled data',len(os_data_y[os_data_y['EMSEC']==2]))\n",
    "print('Number of goverment jobs in oversampled data',len(os_data_y[os_data_y['EMSEC']==3]))\n",
    "print('Number of industry jobs in oversampled data',len(os_data_y[os_data_y['EMSEC']==4]))\n",
    "print('Proportion of 2 yr colleges in oversampled data',len(os_data_y[os_data_y['EMSEC']==1])/len(os_data_X))\n",
    "print('Proportion of 4 yr colleges in data',len(os_data_y[os_data_y['EMSEC']==2])/len(os_data_X))\n",
    "print('Proportion of government jobs in oversampled data',len(os_data_y[os_data_y['EMSEC']==3])/len(os_data_X))\n",
    "print('Proportion of industry jobs in oversampled data',len(os_data_y[os_data_y['EMSEC']==4])/len(os_data_X))"
   ]
  },
  {
   "cell_type": "code",
   "execution_count": 123,
   "metadata": {},
   "outputs": [
    {
     "name": "stdout",
     "output_type": "stream",
     "text": [
      "Best Score: 0.6259535402045717\n",
      "Best Parameters: {'max_depth': 300, 'max_features': 18, 'n_estimators': 75}\n"
     ]
    }
   ],
   "source": [
    "rf = RandomForestClassifier()\n",
    "param_grid = {\"n_estimators\": [30, 50, 75],\n",
    "              \"max_features\": [18],\n",
    "              \"max_depth\": [10, 100, 300]}\n",
    "\n",
    "grid_rf = GridSearchCV(rf, param_grid=param_grid, cv=5)\n",
    "grid_rf.fit(X_oss, y_oss)\n",
    "\n",
    "# Printing the best score from the model\n",
    "print('Best Score:', grid_rf.best_score_)\n",
    "\n",
    "# Saving and printing the best parameters from the model\n",
    "best_params = grid_rf.best_params_\n",
    "print('Best Parameters:', best_params)"
   ]
  },
  {
   "cell_type": "code",
   "execution_count": 125,
   "metadata": {},
   "outputs": [
    {
     "name": "stdout",
     "output_type": "stream",
     "text": [
      "Cross Validation Accuracy Scores - Training Set: 0.62600(+/- 0.18)\n",
      "Cross Validation Accuracy Scores - Test Set: 0.60396(+/- 0.01)\n",
      "[[  957   609   266  2408]\n",
      " [  528  5080  1118  3737]\n",
      " [  327  1203  1111  3494]\n",
      " [ 1674  3143  2307 25096]]\n",
      "Classification report on the test data:\n",
      "              precision    recall  f1-score   support\n",
      "\n",
      "         1.0       0.27      0.23      0.25      4240\n",
      "         2.0       0.51      0.49      0.50     10463\n",
      "         3.0       0.23      0.18      0.20      6135\n",
      "         4.0       0.72      0.78      0.75     32220\n",
      "\n",
      "   micro avg       0.61      0.61      0.61     53058\n",
      "   macro avg       0.43      0.42      0.42     53058\n",
      "weighted avg       0.59      0.61      0.60     53058\n",
      "\n"
     ]
    }
   ],
   "source": [
    "#initiate a instance for classifier\n",
    "rf = RandomForestClassifier(**best_params)\n",
    "\n",
    "# Fit the classifier to the training data\n",
    "rf.fit(X_oss, y_oss)\n",
    "\n",
    "# Predict the labels of the test data: y_pred\n",
    "y_pred = rf.predict(X_test)\n",
    "\n",
    "scores_rf_train = cross_val_score(rf, X_oss, y_oss, cv=5)\n",
    "print('Cross Validation Accuracy Scores - Training Set: {:.5f}(+/- {:.2f})'.format(scores_rf_train.mean(), \n",
    "                                                                                 scores_rf_train.std()*2))\n",
    "scores_rf_test = cross_val_score(rf, X_test, y_test.values.ravel(), cv=5)\n",
    "print('Cross Validation Accuracy Scores - Test Set: {:.5f}(+/- {:.2f})'.format(scores_rf_test.mean(), \n",
    "                                                                                 scores_rf_test.std()*2))\n",
    "\n",
    "# Generate the classification report\n",
    "print(confusion_matrix(y_test, y_pred))\n",
    "print('Classification report on the test data:')\n",
    "print(classification_report(y_test, y_pred))"
   ]
  },
  {
   "cell_type": "markdown",
   "metadata": {},
   "source": [
    "Pretty low accuracy score. Let's try binarizing EMSEC instead."
   ]
  },
  {
   "cell_type": "code",
   "execution_count": 127,
   "metadata": {},
   "outputs": [],
   "source": [
    "# define a function to find for a certain type job field only. \n",
    "# EMSEC = 1, 2 yr college or other\n",
    "# EMSEC = 2, 4 yr college and medical\n",
    "# EMSEC = 3, government\n",
    "# EMSEC = 4, industry\n",
    "\n",
    "def job_sec(ls):\n",
    "    new_s = np.empty(len(ls))\n",
    "    for i,s in enumerate(ls):\n",
    "        if s==4:\n",
    "            new_s[i] = 1\n",
    "        else:\n",
    "            new_s[i] = 0\n",
    "    return new_s\n",
    "\n",
    "rd = job_sec(data_final_s['EMSEC'])"
   ]
  },
  {
   "cell_type": "code",
   "execution_count": 140,
   "metadata": {},
   "outputs": [
    {
     "data": {
      "text/plain": [
       "numpy.ndarray"
      ]
     },
     "execution_count": 140,
     "metadata": {},
     "output_type": "execute_result"
    }
   ],
   "source": [
    "# Identify variables\n",
    "y = rd\n",
    "\n",
    "type(y)"
   ]
  },
  {
   "cell_type": "code",
   "execution_count": 144,
   "metadata": {},
   "outputs": [],
   "source": [
    "# split data\n",
    "os = SMOTE(random_state=42)\n",
    "X_train, X_test, y_train, y_test = train_test_split(X, y, test_size=0.3, random_state=42)\n",
    "columns = X_train.columns\n",
    "\n",
    "# balance training data set\n",
    "os_data_X, os_data_y = os.fit_sample(X_train, np.ravel(y_train, order='C'))\n",
    "os_data_X = pd.DataFrame(data=os_data_X, columns=columns)\n",
    "os_data_y = pd.DataFrame(data=os_data_y, columns=['EMSEC'])\n",
    "\n",
    "#training variables\n",
    "X_s = os_data_X\n",
    "y_s = np.ravel(os_data_y, order='C')"
   ]
  },
  {
   "cell_type": "code",
   "execution_count": 145,
   "metadata": {},
   "outputs": [
    {
     "name": "stdout",
     "output_type": "stream",
     "text": [
      "Best Score: 0.7575719383896945\n",
      "Best Parameters: {'max_depth': 10, 'max_features': 18, 'n_estimators': 75}\n"
     ]
    }
   ],
   "source": [
    "rf = RandomForestClassifier()\n",
    "param_grid = {\"n_estimators\": [30, 50, 75],\n",
    "              \"max_features\": [18],\n",
    "              \"max_depth\": [10, 100, 300]}\n",
    "\n",
    "grid_rf = GridSearchCV(rf, param_grid=param_grid, cv=5)\n",
    "grid_rf.fit(X_s, y_s)\n",
    "\n",
    "# Printing the best score from the model\n",
    "print('Best Score:', grid_rf.best_score_)\n",
    "\n",
    "# Saving and printing the best parameters from the model\n",
    "best_params = grid_rf.best_params_\n",
    "print('Best Parameters:', best_params)"
   ]
  },
  {
   "cell_type": "code",
   "execution_count": 147,
   "metadata": {},
   "outputs": [
    {
     "name": "stdout",
     "output_type": "stream",
     "text": [
      "Cross Validation Accuracy Scores - Training Set: 0.75730(+/- 0.16)\n",
      "Cross Validation Accuracy Scores - Test Set: 0.72598(+/- 0.00)\n",
      "[[12040  8798]\n",
      " [ 5790 26430]]\n",
      "Classification report on the test data:\n",
      "              precision    recall  f1-score   support\n",
      "\n",
      "         0.0       0.68      0.58      0.62     20838\n",
      "         1.0       0.75      0.82      0.78     32220\n",
      "\n",
      "   micro avg       0.73      0.73      0.73     53058\n",
      "   macro avg       0.71      0.70      0.70     53058\n",
      "weighted avg       0.72      0.73      0.72     53058\n",
      "\n"
     ]
    }
   ],
   "source": [
    "#initiate a instance for classifier\n",
    "rf = RandomForestClassifier(**best_params)\n",
    "\n",
    "# Fit the classifier to the training data\n",
    "rf.fit(X_s, y_s)\n",
    "\n",
    "# Predict the labels of the test data: y_pred\n",
    "y_pred = rf.predict(X_test)\n",
    "\n",
    "scores_rf_train = cross_val_score(rf, X_s, y_s, cv=5)\n",
    "print('Cross Validation Accuracy Scores - Training Set: {:.5f}(+/- {:.2f})'.format(scores_rf_train.mean(), \n",
    "                                                                                 scores_rf_train.std()*2))\n",
    "scores_rf_test = cross_val_score(rf, X_test, y_test.ravel(), cv=5)\n",
    "print('Cross Validation Accuracy Scores - Test Set: {:.5f}(+/- {:.2f})'.format(scores_rf_test.mean(), \n",
    "                                                                                 scores_rf_test.std()*2))\n",
    "\n",
    "# Generate the classification report\n",
    "print(confusion_matrix(y_test, y_pred))\n",
    "print('Classification report on the test data:')\n",
    "print(classification_report(y_test, y_pred))"
   ]
  },
  {
   "cell_type": "code",
   "execution_count": 148,
   "metadata": {},
   "outputs": [
    {
     "name": "stdout",
     "output_type": "stream",
     "text": [
      "\n",
      "Features with the most impact on job sector of industry: \n"
     ]
    },
    {
     "data": {
      "text/html": [
       "<div>\n",
       "<style scoped>\n",
       "    .dataframe tbody tr th:only-of-type {\n",
       "        vertical-align: middle;\n",
       "    }\n",
       "\n",
       "    .dataframe tbody tr th {\n",
       "        vertical-align: top;\n",
       "    }\n",
       "\n",
       "    .dataframe thead th {\n",
       "        text-align: right;\n",
       "    }\n",
       "</style>\n",
       "<table border=\"1\" class=\"dataframe\">\n",
       "  <thead>\n",
       "    <tr style=\"text-align: right;\">\n",
       "      <th></th>\n",
       "      <th>Attribute</th>\n",
       "      <th>Coef</th>\n",
       "      <th>Odds_Ratios</th>\n",
       "    </tr>\n",
       "  </thead>\n",
       "  <tbody>\n",
       "    <tr>\n",
       "      <th>12</th>\n",
       "      <td>EMSIZE_2.0</td>\n",
       "      <td>1.041190</td>\n",
       "      <td>2.832587</td>\n",
       "    </tr>\n",
       "    <tr>\n",
       "      <th>6</th>\n",
       "      <td>DGRDG_2</td>\n",
       "      <td>0.911112</td>\n",
       "      <td>2.487087</td>\n",
       "    </tr>\n",
       "    <tr>\n",
       "      <th>17</th>\n",
       "      <td>EMSIZE_7.0</td>\n",
       "      <td>0.843829</td>\n",
       "      <td>2.325252</td>\n",
       "    </tr>\n",
       "    <tr>\n",
       "      <th>5</th>\n",
       "      <td>DGRDG_1</td>\n",
       "      <td>0.581886</td>\n",
       "      <td>1.789410</td>\n",
       "    </tr>\n",
       "    <tr>\n",
       "      <th>16</th>\n",
       "      <td>EMSIZE_6.0</td>\n",
       "      <td>0.498461</td>\n",
       "      <td>1.646186</td>\n",
       "    </tr>\n",
       "  </tbody>\n",
       "</table>\n",
       "</div>"
      ],
      "text/plain": [
       "     Attribute      Coef  Odds_Ratios\n",
       "12  EMSIZE_2.0  1.041190     2.832587\n",
       "6      DGRDG_2  0.911112     2.487087\n",
       "17  EMSIZE_7.0  0.843829     2.325252\n",
       "5      DGRDG_1  0.581886     1.789410\n",
       "16  EMSIZE_6.0  0.498461     1.646186"
      ]
     },
     "execution_count": 148,
     "metadata": {},
     "output_type": "execute_result"
    }
   ],
   "source": [
    "# Creating Data Frame with Features and Random Forest Coefficients\n",
    "coefs_lg = pd.concat([pd.DataFrame(X_train.columns), pd.DataFrame(np.transpose(clf.coef_))], axis=1)\n",
    "coefs_lg.columns = ['Attribute', 'Coef']\n",
    "# Calculating exponentiated coefficients for interpretation\n",
    "coefs_lg['Odds_Ratios'] = np.exp(coefs_lg['Coef'])\n",
    "print('\\nFeatures with the most impact on job sector of industry: ')\n",
    "coefs_lg.sort_values('Odds_Ratios', ascending=False).head(5)"
   ]
  },
  {
   "cell_type": "markdown",
   "metadata": {},
   "source": [
    "The top three greatest impact on working in industries with children is employment size of 11-24, having a master's degree, and employment size of 5000-24999."
   ]
  },
  {
   "cell_type": "code",
   "execution_count": null,
   "metadata": {},
   "outputs": [],
   "source": [
    "# define a function to binarize the target column\n",
    "\n",
    "def job_sec(ls, n):\n",
    "    new_s = np.empty(len(ls))\n",
    "    for i,s in enumerate(ls):\n",
    "        if s==n:\n",
    "            new_s[i] = 1\n",
    "        else:\n",
    "            new_s[i] = 0\n",
    "    return new_s\n",
    "\n",
    "train_score=[]\n",
    "test_score=[]\n",
    "\n",
    "for i in range(4):\n",
    "    \n",
    "    rd = job_sec(data_final_s['EMSEC'], i+1)\n",
    "    \n",
    "    # Identify variables\n",
    "    X = data_final_s.drop('EMSEC', axis=1)\n",
    "    y = rd\n",
    "\n",
    "    # Splitting into train and test sets\n",
    "    os = SMOTE(random_state=42)\n",
    "    X_train, X_test, y_train, y_test = train_test_split(X, y, test_size=0.3, random_state=42)\n",
    "    columns = X_train.columns\n",
    "\n",
    "    # balance training data set\n",
    "    os_data_X, os_data_y = os.fit_sample(X_train, np.ravel(y_train, order='C'))\n",
    "    os_data_X = pd.DataFrame(data=os_data_X, columns=columns)\n",
    "    os_data_y = pd.DataFrame(data=os_data_y, columns=['EMSEC'])\n",
    "\n",
    "\n",
    "    X_s = os_data_X\n",
    "    y_s = np.ravel(os_data_y, order='C')\n",
    "\n",
    "    clf = RandomForestClassifier()\n",
    "    \n",
    "    param_grid = {\"n_estimators\": [30, 50, 75],\n",
    "              \"max_features\": [18],\n",
    "              \"max_depth\": [10, 100]}\n",
    "\n",
    "    grid_rf = GridSearchCV(clf, param_grid=param_grid, cv=5)\n",
    "    grid_rf.fit(X_s, y_s)\n",
    "\n",
    "    best_params = grid_rf.best_params_\n",
    "\n",
    "    #initiate a instance for classifier\n",
    "    rf = RandomForestClassifier(**best_params)\n",
    "\n",
    "    # Fit the classifier to the training data\n",
    "    rf.fit(X_s, y_s)\n",
    "\n",
    "    # Predict the labels of the test data: y_pred\n",
    "    y_pred = rf.predict(X_test)\n",
    "\n",
    "    scores_rf_train = cross_val_score(rf, X_s, y_s, cv=5)\n",
    "    train_score.append(scores_rf_train.mean())\n",
    "    \n",
    "    scores_rf_test = cross_val_score(rf, X_test, y_test, cv=5)\n",
    "    test_score.append(scores_rf_test.mean())"
   ]
  },
  {
   "cell_type": "code",
   "execution_count": 152,
   "metadata": {},
   "outputs": [],
   "source": [
    "# build a list contains the name of the work sector. \n",
    "score_sect_dic = ['2 yr college or other', '4 yr college or medical', 'Government', 'Industry']"
   ]
  },
  {
   "cell_type": "code",
   "execution_count": 153,
   "metadata": {},
   "outputs": [
    {
     "data": {
      "text/html": [
       "<div>\n",
       "<style scoped>\n",
       "    .dataframe tbody tr th:only-of-type {\n",
       "        vertical-align: middle;\n",
       "    }\n",
       "\n",
       "    .dataframe tbody tr th {\n",
       "        vertical-align: top;\n",
       "    }\n",
       "\n",
       "    .dataframe thead th {\n",
       "        text-align: right;\n",
       "    }\n",
       "</style>\n",
       "<table border=\"1\" class=\"dataframe\">\n",
       "  <thead>\n",
       "    <tr style=\"text-align: right;\">\n",
       "      <th></th>\n",
       "      <th>Field of Work</th>\n",
       "      <th>Accuracy score on train</th>\n",
       "      <th>Accuracy score on test</th>\n",
       "    </tr>\n",
       "  </thead>\n",
       "  <tbody>\n",
       "    <tr>\n",
       "      <th>0</th>\n",
       "      <td>2 yr college or other</td>\n",
       "      <td>0.931614</td>\n",
       "      <td>0.896038</td>\n",
       "    </tr>\n",
       "    <tr>\n",
       "      <th>2</th>\n",
       "      <td>Government</td>\n",
       "      <td>0.883916</td>\n",
       "      <td>0.852068</td>\n",
       "    </tr>\n",
       "    <tr>\n",
       "      <th>1</th>\n",
       "      <td>4 yr college or medical</td>\n",
       "      <td>0.863356</td>\n",
       "      <td>0.836349</td>\n",
       "    </tr>\n",
       "    <tr>\n",
       "      <th>3</th>\n",
       "      <td>Industry</td>\n",
       "      <td>0.758217</td>\n",
       "      <td>0.725885</td>\n",
       "    </tr>\n",
       "  </tbody>\n",
       "</table>\n",
       "</div>"
      ],
      "text/plain": [
       "             Field of Work  Accuracy score on train  Accuracy score on test\n",
       "0    2 yr college or other                 0.931614                0.896038\n",
       "2               Government                 0.883916                0.852068\n",
       "1  4 yr college or medical                 0.863356                0.836349\n",
       "3                 Industry                 0.758217                0.725885"
      ]
     },
     "execution_count": 153,
     "metadata": {},
     "output_type": "execute_result"
    }
   ],
   "source": [
    "score_df = pd.DataFrame(\n",
    "    {'Field of Work': score_sect_dic,\n",
    "     'Accuracy score on train': train_score,\n",
    "     'Accuracy score on test': test_score\n",
    "    })\n",
    "\n",
    "score_df.sort_values('Accuracy score on test', ascending=False)"
   ]
  },
  {
   "cell_type": "markdown",
   "metadata": {},
   "source": [
    "Few insights from this table:\n",
    "\n",
    "1. The random forest classification model works well in predicting job sectors! It predicts the employment sectors with accuracy scores ranging from 0.73 to 0.90.\n",
    "\n",
    "2. 2 yr college, government and 4 yr college are top 3 most predictable sectors in this survey. From the random forest classifier results on the industry sector, we found that a company size of 11-24 people, having a masters degree, and a company size of 5000-25000 have the greatest impact on choosing job sectors. This means that people with children who work in industries tend to have a master's degree and work in either really small companies or really big ones. \n",
    "\n",
    "3. Industry sector is least accurately predicted. My thought on this is that people with children don't tend to stay or work in industries for many reasons: work schedule, financial pressure, and childcare, to name a few. The occurance of these could be more random and less predictable than the rest of the job fields. It causes a lower accuracy score."
   ]
  },
  {
   "cell_type": "markdown",
   "metadata": {},
   "source": [
    "# Summary\n",
    "In this notebook, I explored some machine learning methods on the higher education SESTAT survey data, the leading surveys for studying the science and engineering (STEM) workforce.\n",
    "\n",
    "I first prepared the target and predictor for a linear regression model. I tried linear regression model first because my target, salary, was a continuous value. I used age to predict salary; unfortunately, this method was not very strong. Mainly because age and salary did not share a linear relationship. As a result, I formatted salary into a binary column and used classification methods instead.\n",
    "\n",
    "I prepared the target, numeric, and catagorical columns for the machine learning models. Statistical functions were used for feature selections. Then two classification models were picked to fit, cross validate and predict the salary level of the entries. I used accuracy scores and ROC curves to compare these methonds. It seems random forest classifier performed best, with an accuracy scores as high as 0.77.\n",
    "\n",
    "In the last part, the princpal job sector was predicted. Which job sectors do parents expect when they go into the workforce? The random forest classifier help explained the major impacts in answering this question. Each job sector appeared was predicted with the employed with children portion of the data. The classification models does a great job in predicting the job sector in general. The results found some fields were more accurately predicted than others."
   ]
  },
  {
   "cell_type": "code",
   "execution_count": null,
   "metadata": {},
   "outputs": [],
   "source": []
  }
 ],
 "metadata": {
  "kernelspec": {
   "display_name": "Python 3",
   "language": "python",
   "name": "python3"
  },
  "language_info": {
   "codemirror_mode": {
    "name": "ipython",
    "version": 3
   },
   "file_extension": ".py",
   "mimetype": "text/x-python",
   "name": "python",
   "nbconvert_exporter": "python",
   "pygments_lexer": "ipython3",
   "version": "3.7.0"
  }
 },
 "nbformat": 4,
 "nbformat_minor": 2
}
