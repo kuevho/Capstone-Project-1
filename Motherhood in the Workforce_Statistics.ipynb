{
 "cells": [
  {
   "cell_type": "markdown",
   "metadata": {},
   "source": [
    "# Statistical Analysis of Motherhood in the Workforce\n",
    "\n",
    "In this notebook we will discover the statistical significance of gender pay gap, motherhood pay gap, and whether there is a correlation between having children and salary.\n",
    "\n",
    "From EDA, we discovered the following:\n",
    "\n",
    "1. There is an apparent gender pay gap observed from this survey despite having the same creditials, working in sectors, and having the same number of children.\n",
    "2. Women with children get paid the same amount as women without children.\n",
    "3. Men and women with children work in different industries that pay at opposite extremes of the salary range spectrum.\n",
    "4. Men with children are more likely to be supervisors than women with children.\n",
    "5. Women with children are more likely to leave their jobs for family than men with children.\n",
    "\n",
    "As a continuance, we will use statistics to confirm what these visualizations imply."
   ]
  },
  {
   "cell_type": "code",
   "execution_count": 1,
   "metadata": {},
   "outputs": [],
   "source": [
    "#import packages\n",
    "import numpy as np\n",
    "import pandas as pd\n",
    "import matplotlib.pyplot as plt\n",
    "import seaborn as sns\n",
    "sns.set_style('whitegrid')\n",
    "sns.set_context(\"talk\")\n",
    "%matplotlib inline "
   ]
  },
  {
   "cell_type": "code",
   "execution_count": 2,
   "metadata": {},
   "outputs": [],
   "source": [
    "from scipy import stats"
   ]
  },
  {
   "cell_type": "code",
   "execution_count": 3,
   "metadata": {},
   "outputs": [],
   "source": [
    "#read file and remove null values\n",
    "df = pd.read_csv('highered_00005.csv', na_values=[96, 99, 98, 9996, 9998, 9999, 999996, 999998, 999999, 9999998, 9999999])\n",
    "df['CHTOT'] = df['CHTOT'].fillna(0)\n",
    "df['CHFAM'] = df['CHFAM'].fillna(0)"
   ]
  },
  {
   "cell_type": "code",
   "execution_count": 4,
   "metadata": {},
   "outputs": [],
   "source": [
    "#use string categorical data to replace numerical data\n",
    "gen_map = {1:'Female', 2:'Male'}\n",
    "df['GENDERS'] = df['GENDER'].map(gen_map)\n",
    "\n",
    "race_map = {1:'Asian', 2:'White', 3:'other minorities', 4:'Other'}\n",
    "df['RACE'] = df['RACETH'].map(race_map)\n",
    "\n",
    "deg_map = {1:'Bachelors',2:'Masters', 3:'Doctorate', 4:'Professional'}\n",
    "df['DEGREE'] = df['DGRDG'].map(deg_map)\n",
    "\n",
    "LF_map = {1: 'Employed', 2: 'Unemployed'}\n",
    "df['LFSTATS'] = df['LFSTAT'].map(LF_map)\n",
    "df['LFSTATS'] = df['LFSTATS'].replace(3,np.NaN)\n",
    "\n",
    "ES_map = {1:'2 yr college',2:'4 yr college',3:'Government',4:'Industry',5:'Non_US government'}\n",
    "df['EMSECS'] = df['EMSEC'].map(ES_map)\n",
    "\n",
    "new_map = {0:'NO', 1:'YES'}\n",
    "df['NEWBUSS'] = df['NEWBUS'].map(new_map)\n",
    "\n",
    "work_map = {1:'RND',2:'Teaching',3:'Admin',4:'Computer apps', 5:'Other'}\n",
    "df['WORK'] = df['WAPRSM'].map(work_map)\n",
    "\n",
    "sup_map = {0:'No',1:'Yes'}\n",
    "df['SUPERVISORY'] = df['SUPWK'].map(sup_map)\n",
    "\n",
    "change_map = {0:'No',1:'Yes'}\n",
    "df['FAMILY'] = df['CHFAM'].map(change_map)"
   ]
  },
  {
   "cell_type": "code",
   "execution_count": 5,
   "metadata": {},
   "outputs": [],
   "source": [
    "#drop irrelevant columns\n",
    "df = df.drop(['SURID', 'WEIGHT', 'SAMPLE', 'GENDER', 'RACETH', 'DGRDG', 'LFSTAT', 'EMSEC', 'NEWBUS', 'WAPRSM', 'SUPWK', 'CHFAM'], axis=1)"
   ]
  },
  {
   "cell_type": "code",
   "execution_count": 6,
   "metadata": {},
   "outputs": [
    {
     "data": {
      "text/html": [
       "<div>\n",
       "<style scoped>\n",
       "    .dataframe tbody tr th:only-of-type {\n",
       "        vertical-align: middle;\n",
       "    }\n",
       "\n",
       "    .dataframe tbody tr th {\n",
       "        vertical-align: top;\n",
       "    }\n",
       "\n",
       "    .dataframe thead th {\n",
       "        text-align: right;\n",
       "    }\n",
       "</style>\n",
       "<table border=\"1\" class=\"dataframe\">\n",
       "  <thead>\n",
       "    <tr style=\"text-align: right;\">\n",
       "      <th></th>\n",
       "      <th>PERSONID</th>\n",
       "      <th>YEAR</th>\n",
       "      <th>AGE</th>\n",
       "      <th>CHTOT</th>\n",
       "      <th>EMSIZE</th>\n",
       "      <th>SALARY</th>\n",
       "      <th>GENDERS</th>\n",
       "      <th>RACE</th>\n",
       "      <th>DEGREE</th>\n",
       "      <th>LFSTATS</th>\n",
       "      <th>EMSECS</th>\n",
       "      <th>NEWBUSS</th>\n",
       "      <th>WORK</th>\n",
       "      <th>SUPERVISORY</th>\n",
       "      <th>FAMILY</th>\n",
       "    </tr>\n",
       "  </thead>\n",
       "  <tbody>\n",
       "    <tr>\n",
       "      <th>0</th>\n",
       "      <td>50000030000000003</td>\n",
       "      <td>2003</td>\n",
       "      <td>47</td>\n",
       "      <td>1.0</td>\n",
       "      <td>3.0</td>\n",
       "      <td>35000.0</td>\n",
       "      <td>Female</td>\n",
       "      <td>White</td>\n",
       "      <td>Bachelors</td>\n",
       "      <td>Employed</td>\n",
       "      <td>2 yr college</td>\n",
       "      <td>NO</td>\n",
       "      <td>Teaching</td>\n",
       "      <td>Yes</td>\n",
       "      <td>No</td>\n",
       "    </tr>\n",
       "    <tr>\n",
       "      <th>1</th>\n",
       "      <td>50000030000000004</td>\n",
       "      <td>2003</td>\n",
       "      <td>66</td>\n",
       "      <td>0.0</td>\n",
       "      <td>1.0</td>\n",
       "      <td>66000.0</td>\n",
       "      <td>Male</td>\n",
       "      <td>White</td>\n",
       "      <td>Bachelors</td>\n",
       "      <td>Employed</td>\n",
       "      <td>Industry</td>\n",
       "      <td>NO</td>\n",
       "      <td>RND</td>\n",
       "      <td>Yes</td>\n",
       "      <td>No</td>\n",
       "    </tr>\n",
       "    <tr>\n",
       "      <th>2</th>\n",
       "      <td>50000030000000005</td>\n",
       "      <td>2003</td>\n",
       "      <td>60</td>\n",
       "      <td>0.0</td>\n",
       "      <td>6.0</td>\n",
       "      <td>102000.0</td>\n",
       "      <td>Female</td>\n",
       "      <td>White</td>\n",
       "      <td>Bachelors</td>\n",
       "      <td>Employed</td>\n",
       "      <td>Industry</td>\n",
       "      <td>NO</td>\n",
       "      <td>Admin</td>\n",
       "      <td>Yes</td>\n",
       "      <td>No</td>\n",
       "    </tr>\n",
       "    <tr>\n",
       "      <th>3</th>\n",
       "      <td>50000030000000006</td>\n",
       "      <td>2003</td>\n",
       "      <td>30</td>\n",
       "      <td>0.0</td>\n",
       "      <td>8.0</td>\n",
       "      <td>81000.0</td>\n",
       "      <td>Male</td>\n",
       "      <td>White</td>\n",
       "      <td>Masters</td>\n",
       "      <td>Employed</td>\n",
       "      <td>Industry</td>\n",
       "      <td>NO</td>\n",
       "      <td>RND</td>\n",
       "      <td>Yes</td>\n",
       "      <td>No</td>\n",
       "    </tr>\n",
       "    <tr>\n",
       "      <th>4</th>\n",
       "      <td>50000030000000104</td>\n",
       "      <td>2003</td>\n",
       "      <td>68</td>\n",
       "      <td>0.0</td>\n",
       "      <td>NaN</td>\n",
       "      <td>NaN</td>\n",
       "      <td>Female</td>\n",
       "      <td>White</td>\n",
       "      <td>Masters</td>\n",
       "      <td>NaN</td>\n",
       "      <td>NaN</td>\n",
       "      <td>NaN</td>\n",
       "      <td>NaN</td>\n",
       "      <td>NaN</td>\n",
       "      <td>No</td>\n",
       "    </tr>\n",
       "  </tbody>\n",
       "</table>\n",
       "</div>"
      ],
      "text/plain": [
       "            PERSONID  YEAR  AGE  CHTOT  EMSIZE    SALARY GENDERS   RACE  \\\n",
       "0  50000030000000003  2003   47    1.0     3.0   35000.0  Female  White   \n",
       "1  50000030000000004  2003   66    0.0     1.0   66000.0    Male  White   \n",
       "2  50000030000000005  2003   60    0.0     6.0  102000.0  Female  White   \n",
       "3  50000030000000006  2003   30    0.0     8.0   81000.0    Male  White   \n",
       "4  50000030000000104  2003   68    0.0     NaN       NaN  Female  White   \n",
       "\n",
       "      DEGREE   LFSTATS        EMSECS NEWBUSS      WORK SUPERVISORY FAMILY  \n",
       "0  Bachelors  Employed  2 yr college      NO  Teaching         Yes     No  \n",
       "1  Bachelors  Employed      Industry      NO       RND         Yes     No  \n",
       "2  Bachelors  Employed      Industry      NO     Admin         Yes     No  \n",
       "3    Masters  Employed      Industry      NO       RND         Yes     No  \n",
       "4    Masters       NaN           NaN     NaN       NaN         NaN     No  "
      ]
     },
     "execution_count": 6,
     "metadata": {},
     "output_type": "execute_result"
    }
   ],
   "source": [
    "#quick overview of dataframe\n",
    "df.head()"
   ]
  },
  {
   "cell_type": "code",
   "execution_count": 7,
   "metadata": {},
   "outputs": [],
   "source": [
    "#a dataframe for 2003 survey only\n",
    "df_2003 = df[df['YEAR'] == 2003]\n",
    "\n",
    "#a datafram for 2013 survey only\n",
    "df_2013 = df[df['YEAR'] == 2013]\n",
    "\n",
    "#a dataframe for bachelor, masters, doctorate, and professional degrees \n",
    "df_bachelor = df[(df['DEGREE'] == 'Bachelors')]\n",
    "df_ma = df[(df['DEGREE'] == 'Masters')]\n",
    "df_dr = df[df['DEGREE'] == 'Doctorate']\n",
    "df_prof = df[(df['DEGREE'] == 'Professional')]\n",
    "\n",
    "#a datafram for those with children\n",
    "df_child = df[df['CHTOT']!=0]"
   ]
  },
  {
   "cell_type": "markdown",
   "metadata": {},
   "source": [
    "# Visual of gender pay gap between 2003 and 2013"
   ]
  },
  {
   "cell_type": "code",
   "execution_count": 8,
   "metadata": {},
   "outputs": [
    {
     "data": {
      "text/plain": [
       "<function matplotlib.pyplot.tight_layout(pad=1.08, h_pad=None, w_pad=None, rect=None)>"
      ]
     },
     "execution_count": 8,
     "metadata": {},
     "output_type": "execute_result"
    },
    {
     "data": {
      "image/png": "[encoded data removed]",
      "text/plain": [
       "<Figure size 576x360 with 1 Axes>"
      ]
     },
     "metadata": {
      "needs_background": "light"
     },
     "output_type": "display_data"
    }
   ],
   "source": [
    "#bar plot of gender and salary between a 10 year gap \n",
    "fig=plt.figure(figsize=[8,5])\n",
    "ax = fig.add_subplot(111)\n",
    "sns.boxplot(data=df, y = 'SALARY', \n",
    "            x = 'YEAR', hue = 'GENDERS',\n",
    "            hue_order=['Male','Female'], \n",
    "            palette=\"muted\", ax=ax)\n",
    "sns.despine()\n",
    "plt.title('Salary Comparison VS Year')\n",
    "lgd=ax.legend(bbox_to_anchor=(1.01, 1), loc=2, borderaxespad=0.)\n",
    "plt.tight_layout"
   ]
  },
  {
   "cell_type": "markdown",
   "metadata": {},
   "source": [
    "## What is the gender pay difference in 2003 and 2013"
   ]
  },
  {
   "cell_type": "code",
   "execution_count": 9,
   "metadata": {},
   "outputs": [
    {
     "data": {
      "text/plain": [
       "0.2573725045432094"
      ]
     },
     "execution_count": 9,
     "metadata": {},
     "output_type": "execute_result"
    }
   ],
   "source": [
    "m_2003=df_2003[df_2003['GENDERS']=='Male']['SALARY'].mean()\n",
    "f_2003=df_2003[df_2003['GENDERS']=='Female']['SALARY'].mean()\n",
    "(m_2003-f_2003)/m_2003"
   ]
  },
  {
   "cell_type": "code",
   "execution_count": 10,
   "metadata": {},
   "outputs": [
    {
     "data": {
      "text/plain": [
       "0.24860750807863138"
      ]
     },
     "execution_count": 10,
     "metadata": {},
     "output_type": "execute_result"
    }
   ],
   "source": [
    "m_2013=df_2013[df_2013['GENDERS']=='Male']['SALARY'].mean()\n",
    "f_2013=df_2013[df_2013['GENDERS']=='Female']['SALARY'].mean()\n",
    "(m_2013-f_2013)/m_2013"
   ]
  },
  {
   "cell_type": "markdown",
   "metadata": {},
   "source": [
    "Based on the calculation above, we see that in a 10 year span, there has been no decrease in the gender pay gap."
   ]
  },
  {
   "cell_type": "markdown",
   "metadata": {},
   "source": [
    "# Is gender pay gap statistically significant?"
   ]
  },
  {
   "cell_type": "markdown",
   "metadata": {},
   "source": [
    "Explore the salary gap between men and women in full dataset.\n",
    "\n",
    "Define null hypothesis as men and women report the same average salary: $$s_m = s_f$$ Alternative hypothesis: $$s_m \\neq s_f$$\n",
    "\n",
    "Use two sample t test for the difference of means to test:"
   ]
  },
  {
   "cell_type": "code",
   "execution_count": 11,
   "metadata": {},
   "outputs": [
    {
     "name": "stdout",
     "output_type": "stream",
     "text": [
      "The mean salary for men is 32.71 % higher than women.\n"
     ]
    },
    {
     "data": {
      "text/plain": [
       "Ttest_indResult(statistic=111.83071627413051, pvalue=0.0)"
      ]
     },
     "execution_count": 11,
     "metadata": {},
     "output_type": "execute_result"
    }
   ],
   "source": [
    "salary_m = df[df['GENDERS']=='Male']['SALARY']\n",
    "salary_f = df[df['GENDERS']=='Female']['SALARY']\n",
    "diff_perc_s = (np.mean(salary_m)-np.mean(salary_f))/np.mean(salary_f)\n",
    "print('The mean salary for men is {0:.2f} % higher than women.'.format(round(diff_perc_s*100,2)))\n",
    "stats.ttest_ind(salary_m.dropna(), salary_f.dropna(),  equal_var = False)"
   ]
  },
  {
   "cell_type": "markdown",
   "metadata": {},
   "source": [
    "With a p value of 0.0, we reject the null hypothesis!"
   ]
  },
  {
   "cell_type": "markdown",
   "metadata": {},
   "source": [
    "### There is a statistical difference in mean salary between men and women\n",
    "The calculation above shows that men get paid 33% more than women! That's a huge difference!\n",
    "\n",
    "Now, let's explore if the same is true for men and women with children."
   ]
  },
  {
   "cell_type": "markdown",
   "metadata": {},
   "source": [
    "# What is the gender pay difference between men and women with children?"
   ]
  },
  {
   "cell_type": "code",
   "execution_count": 12,
   "metadata": {},
   "outputs": [
    {
     "data": {
      "text/plain": [
       "0.29357306749116074"
      ]
     },
     "execution_count": 12,
     "metadata": {},
     "output_type": "execute_result"
    }
   ],
   "source": [
    "wc_2003=df_child[df_child['YEAR']==2003]\n",
    "wc_2013=df_child[df_child['YEAR']==2013]\n",
    "\n",
    "mwc_2003=wc_2003[wc_2003['GENDERS']=='Male']['SALARY'].mean()\n",
    "fwc_2003=wc_2003[wc_2003['GENDERS']=='Female']['SALARY'].mean()\n",
    "(mwc_2003-fwc_2003)/mwc_2003"
   ]
  },
  {
   "cell_type": "code",
   "execution_count": 13,
   "metadata": {},
   "outputs": [
    {
     "data": {
      "text/plain": [
       "0.28256001072951176"
      ]
     },
     "execution_count": 13,
     "metadata": {},
     "output_type": "execute_result"
    }
   ],
   "source": [
    "mwc_2013=wc_2013[wc_2013['GENDERS']=='Male']['SALARY'].mean()\n",
    "fwc_2013=wc_2013[wc_2013['GENDERS']=='Female']['SALARY'].mean()\n",
    "(mwc_2013-fwc_2013)/mwc_2013"
   ]
  },
  {
   "cell_type": "markdown",
   "metadata": {},
   "source": [
    "When we separate men and women with children, we see that pay difference increases from 25% in 2013 to 28%. Now, let's explore if there is a statistical signifance in the pay gap between men and women with children."
   ]
  },
  {
   "cell_type": "markdown",
   "metadata": {},
   "source": [
    "## Is the gender pay gap with children statistically significant?\n",
    "\n",
    "Explore the salary gap between men and women with children.\n",
    "\n",
    "Define null hypothesis as men and women with children report the same average salary: $$s_mwc = s_fwc$$ Alternative hypothesis: $$s_mwc \\neq s_fwc$$\n",
    "\n",
    "Use two sample t test for the difference of means to test:"
   ]
  },
  {
   "cell_type": "code",
   "execution_count": 14,
   "metadata": {},
   "outputs": [
    {
     "name": "stdout",
     "output_type": "stream",
     "text": [
      "The mean salary for men is 38.74 % higher than women.\n"
     ]
    },
    {
     "data": {
      "text/plain": [
       "Ttest_indResult(statistic=93.0584132233896, pvalue=0.0)"
      ]
     },
     "execution_count": 14,
     "metadata": {},
     "output_type": "execute_result"
    }
   ],
   "source": [
    "salary_mwc = df_child[df_child['GENDERS']=='Male']['SALARY']\n",
    "salary_fwc = df_child[df_child['GENDERS']=='Female']['SALARY']\n",
    "diff_perc_s = (np.mean(salary_mwc)-np.mean(salary_fwc))/np.mean(salary_fwc)\n",
    "print('The mean salary for men is {0:.2f} % higher than women.'.format(round(diff_perc_s*100,2)))\n",
    "stats.ttest_ind(salary_mwc.dropna(), salary_fwc.dropna(),  equal_var = False)"
   ]
  },
  {
   "cell_type": "markdown",
   "metadata": {},
   "source": [
    "Here we can also reject the null hypothesis with a p value of 0.0. "
   ]
  },
  {
   "cell_type": "markdown",
   "metadata": {},
   "source": [
    "### There is a statistical difference in salary between men and women with children!\n",
    "We see that men with children make 39% more than women. In comparison to the overall study, this is an increase of 6% in difference!"
   ]
  },
  {
   "cell_type": "markdown",
   "metadata": {},
   "source": [
    "# What is the pay difference between women with and without children?"
   ]
  },
  {
   "cell_type": "code",
   "execution_count": 15,
   "metadata": {},
   "outputs": [],
   "source": [
    "#create df of men and women without children for easy manipulation\n",
    "df_nc = df[df['CHTOT']==0]"
   ]
  },
  {
   "cell_type": "code",
   "execution_count": 16,
   "metadata": {},
   "outputs": [
    {
     "data": {
      "text/plain": [
       "0.005470754925938834"
      ]
     },
     "execution_count": 16,
     "metadata": {},
     "output_type": "execute_result"
    }
   ],
   "source": [
    "nc_2003=df_nc[df_nc['YEAR']==2003]\n",
    "nc_2013=df_nc[df_nc['YEAR']==2013]\n",
    "\n",
    "fnc_2003=nc_2003[nc_2003['GENDERS']=='Female']['SALARY'].mean()\n",
    "fwc_2003=wc_2003[wc_2003['GENDERS']=='Female']['SALARY'].mean()\n",
    "(fnc_2003-fwc_2003)/fnc_2003"
   ]
  },
  {
   "cell_type": "code",
   "execution_count": 18,
   "metadata": {},
   "outputs": [
    {
     "data": {
      "text/plain": [
       "-0.08416939345214243"
      ]
     },
     "execution_count": 18,
     "metadata": {},
     "output_type": "execute_result"
    }
   ],
   "source": [
    "fnc_2013=nc_2013[nc_2013['GENDERS']=='Female']['SALARY'].mean()\n",
    "fwc_2013=wc_2013[wc_2013['GENDERS']=='Female']['SALARY'].mean()\n",
    "(fnc_2013-fwc_2013)/fnc_2013"
   ]
  },
  {
   "cell_type": "markdown",
   "metadata": {},
   "source": [
    "Between 2003 and 2013, we see that the pay difference between women with and without children actually decreased!"
   ]
  },
  {
   "cell_type": "markdown",
   "metadata": {},
   "source": [
    "## Is the children pay gap statistically significant?\n",
    "Explore the salary gap between women with and without children.\n",
    "\n",
    "Define null hypothesis as women with and without children report the same average salary: $$s_fnc = s_fwc$$ Alternative hypothesis: $$s_fnc \\neq s_fwc$$\n",
    "\n",
    "Use two sample t test for the difference of means to test:"
   ]
  },
  {
   "cell_type": "code",
   "execution_count": 19,
   "metadata": {},
   "outputs": [
    {
     "name": "stdout",
     "output_type": "stream",
     "text": [
      "The mean salary for women without children is -4.00 % higher than women with children.\n"
     ]
    },
    {
     "data": {
      "text/plain": [
       "Ttest_indResult(statistic=-9.218349788120044, pvalue=3.1042903973097717e-20)"
      ]
     },
     "execution_count": 19,
     "metadata": {},
     "output_type": "execute_result"
    }
   ],
   "source": [
    "salary_fnc = df_nc[df_nc['GENDERS']=='Female']['SALARY']\n",
    "salary_fwc = df_child[df_child['GENDERS']=='Female']['SALARY']\n",
    "diff_perc_s = (np.mean(salary_fnc)-np.mean(salary_fwc))/np.mean(salary_fwc)\n",
    "print('The mean salary for women without children is {0:.2f} % higher than women with children.'.format(round(diff_perc_s*100,2)))\n",
    "stats.ttest_ind(salary_fnc.dropna(), salary_fwc.dropna(),  equal_var = False)"
   ]
  },
  {
   "cell_type": "markdown",
   "metadata": {},
   "source": [
    "Based on the pvalue, we can reject the null hypothesis! Women with children and those without do not report the same salary averages. We see that women without children make 4% less than women with children! "
   ]
  },
  {
   "cell_type": "markdown",
   "metadata": {},
   "source": [
    "# Is there a correlation between having children and salary?"
   ]
  },
  {
   "cell_type": "markdown",
   "metadata": {},
   "source": [
    "Explore correlation between salary and having children.\n",
    "\n",
    "Define null hypothesis as no significant correlation between salary and having children: $$s_s = s_c$$ Alternative hypothesis: $$s_s \\neq s_c$$"
   ]
  },
  {
   "cell_type": "code",
   "execution_count": 20,
   "metadata": {},
   "outputs": [
    {
     "data": {
      "text/html": [
       "<div>\n",
       "<style scoped>\n",
       "    .dataframe tbody tr th:only-of-type {\n",
       "        vertical-align: middle;\n",
       "    }\n",
       "\n",
       "    .dataframe tbody tr th {\n",
       "        vertical-align: top;\n",
       "    }\n",
       "\n",
       "    .dataframe thead th {\n",
       "        text-align: right;\n",
       "    }\n",
       "</style>\n",
       "<table border=\"1\" class=\"dataframe\">\n",
       "  <thead>\n",
       "    <tr style=\"text-align: right;\">\n",
       "      <th></th>\n",
       "      <th>SALARY</th>\n",
       "      <th>CHTOT</th>\n",
       "    </tr>\n",
       "  </thead>\n",
       "  <tbody>\n",
       "    <tr>\n",
       "      <th>SALARY</th>\n",
       "      <td>1.000000</td>\n",
       "      <td>0.112075</td>\n",
       "    </tr>\n",
       "    <tr>\n",
       "      <th>CHTOT</th>\n",
       "      <td>0.112075</td>\n",
       "      <td>1.000000</td>\n",
       "    </tr>\n",
       "  </tbody>\n",
       "</table>\n",
       "</div>"
      ],
      "text/plain": [
       "          SALARY     CHTOT\n",
       "SALARY  1.000000  0.112075\n",
       "CHTOT   0.112075  1.000000"
      ]
     },
     "execution_count": 20,
     "metadata": {},
     "output_type": "execute_result"
    }
   ],
   "source": [
    "data = pd.concat([df['SALARY'], df['CHTOT']], axis=1)\n",
    "data.corr()"
   ]
  },
  {
   "cell_type": "code",
   "execution_count": 44,
   "metadata": {},
   "outputs": [
    {
     "data": {
      "text/plain": [
       "Ttest_indResult(statistic=797.2977994947405, pvalue=0.0)"
      ]
     },
     "execution_count": 44,
     "metadata": {},
     "output_type": "execute_result"
    }
   ],
   "source": [
    "stats.ttest_ind(df['SALARY'].dropna(), df['CHTOT'].dropna(),  equal_var = False)"
   ]
  },
  {
   "cell_type": "markdown",
   "metadata": {},
   "source": [
    "Here we also have a p value of 0.0 allowing us to reject our null hypothesis. There is a significant correlation between salary and having children. According to the correlation function above, salary and having children share a slight positive correlation."
   ]
  },
  {
   "cell_type": "code",
   "execution_count": null,
   "metadata": {},
   "outputs": [],
   "source": [
    "data_1 = pd.concat"
   ]
  }
 ],
 "metadata": {
  "kernelspec": {
   "display_name": "Python 3",
   "language": "python",
   "name": "python3"
  },
  "language_info": {
   "codemirror_mode": {
    "name": "ipython",
    "version": 3
   },
   "file_extension": ".py",
   "mimetype": "text/x-python",
   "name": "python",
   "nbconvert_exporter": "python",
   "pygments_lexer": "ipython3",
   "version": "3.7.0"
  }
 },
 "nbformat": 4,
 "nbformat_minor": 2
}
